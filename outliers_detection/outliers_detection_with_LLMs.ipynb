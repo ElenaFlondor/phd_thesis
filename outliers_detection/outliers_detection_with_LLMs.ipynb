{
 "cells": [
  {
   "cell_type": "markdown",
   "id": "46f58ae5-5f09-4a57-badc-4241ca288ab3",
   "metadata": {
    "deletable": true,
    "editable": true,
    "frozen": false
   },
   "source": [
    "# Load Libraries"
   ]
  },
  {
   "cell_type": "code",
   "execution_count": null,
   "id": "4d1a52c3-80b3-42ea-82b2-052e07cd9977",
   "metadata": {
    "deletable": true,
    "editable": true,
    "frozen": false
   },
   "outputs": [],
   "source": [
    "import re\n",
    "import os\n",
    "import nltk\n",
    "import json\n",
    "import emoji\n",
    "import spacy\n",
    "import torch\n",
    "import gensim\n",
    "import pickle\n",
    "import hdbscan\n",
    "import cleanlab\n",
    "import Levenshtein\n",
    "import numpy as np\n",
    "import pandas as pd\n",
    "import seaborn as sns\n",
    "import matplotlib.pyplot as plt\n",
    "\n",
    "from collections import defaultdict\n",
    "\n",
    "from umap import UMAP\n",
    "from tqdm.auto import tqdm\n",
    "from nltk.corpus import stopwords\n",
    "from IPython.display import display\n",
    "from torch.utils.data import DataLoader\n",
    "from wordsegment import load, segment\n",
    "from nltk.tokenize import word_tokenize\n",
    "from datasketch import MinHash, MinHashLSH\n",
    "from cleanlab.outlier import OutOfDistribution\n",
    "from transformers import BertTokenizer, BertModel\n",
    "from sklearn.metrics import precision_recall_curve\n",
    "from sklearn.metrics import silhouette_score\n",
    "from sklearn.metrics.pairwise import cosine_distances\n",
    "from concurrent.futures import ProcessPoolExecutor\n",
    "from sklearn.metrics import davies_bouldin_score\n",
    "from nltk.corpus import words\n",
    "\n",
    "from sklearn.feature_extraction.text import CountVectorizer\n",
    "\n",
    "import warnings\n",
    "warnings.filterwarnings('ignore')\n"
   ]
  },
  {
   "cell_type": "code",
   "execution_count": null,
   "id": "22dcef07-2491-4e74-b28e-ccf34fb453b3",
   "metadata": {
    "deletable": true,
    "editable": true,
    "frozen": false
   },
   "outputs": [],
   "source": [
    "try:\n",
    "    nltk.corpus.stopwords.words\n",
    "except LookupError:\n",
    "    nltk.download('stopwords')\n",
    "\n",
    "nltk.download('words')\n",
    "nltk.download('punkt')\n",
    "load()\n",
    "nlp = spacy.load('en_core_web_sm')\n",
    "english_words = set(words.words())"
   ]
  },
  {
   "cell_type": "code",
   "execution_count": null,
   "id": "7bb54feb-6797-42ec-bd9a-360bda62cf14",
   "metadata": {
    "deletable": true,
    "editable": true,
    "frozen": false
   },
   "outputs": [],
   "source": [
    "SEED = 42\n",
    "np.random.seed(SEED)\n",
    "torch.manual_seed(SEED)\n",
    "torch.backends.cudnn.deterministic = True\n",
    "torch.backends.cudnn.benchmark = False\n",
    "torch.cuda.manual_seed_all(SEED)"
   ]
  },
  {
   "cell_type": "code",
   "execution_count": null,
   "id": "5cc3fbdc-d5de-481a-bb0b-a6eb8e94ccc7",
   "metadata": {
    "deletable": true,
    "editable": true,
    "frozen": false
   },
   "outputs": [],
   "source": [
    "pd.options.display.max_colwidth = 500\n",
    "pd.options.display.max_rows = 500"
   ]
  },
  {
   "cell_type": "markdown",
   "id": "9a6531f7-2754-478b-abf7-49c4076cd4f3",
   "metadata": {
    "deletable": true,
    "editable": true,
    "frozen": false
   },
   "source": [
    "# Load Data"
   ]
  },
  {
   "cell_type": "code",
   "execution_count": null,
   "id": "99636160-c58a-4ee8-9a26-604c9a6ee46c",
   "metadata": {
    "deletable": true,
    "editable": true,
    "frozen": false
   },
   "outputs": [],
   "source": [
    "\"\"\"\n",
    "raw_data_path - path to a file containing applications raw descriptions\n",
    "categs_defs_path - path to a file containing categories guidelines\n",
    "current_category - name of the a category to be studied in terms of outliers presence \n",
    "\"\"\"\n",
    "\n",
    "raw_data_path = \"\"\n",
    "categs_defs_path = \"\"\n",
    "current_category = \"\""
   ]
  },
  {
   "cell_type": "code",
   "execution_count": null,
   "id": "f3e7569d-4c8c-4d52-bfa0-32bf16ee5aba",
   "metadata": {
    "deletable": true,
    "editable": true,
    "frozen": false
   },
   "outputs": [],
   "source": [
    "all_data = pd.read_csv(raw_data_path, index_col=False)\n",
    "category_data = all_data[all_data[\"c\"] == current_category]\n",
    "categories_definitions_df = pd.read_csv(categs_defs_path)"
   ]
  },
  {
   "cell_type": "markdown",
   "id": "d3bd10fb-e25e-4674-a11f-d0061ec0dd85",
   "metadata": {
    "deletable": true,
    "editable": true,
    "frozen": false
   },
   "source": [
    "# Data Processing"
   ]
  },
  {
   "cell_type": "markdown",
   "id": "da964c56-e72c-4b08-8167-1761fe777489",
   "metadata": {
    "deletable": true,
    "editable": true,
    "frozen": false
   },
   "source": [
    "## Data Processing"
   ]
  },
  {
   "cell_type": "code",
   "execution_count": null,
   "id": "e2d15c72-955f-4e53-a3e3-37e4b736d1f0",
   "metadata": {
    "deletable": true,
    "editable": true,
    "frozen": false
   },
   "outputs": [],
   "source": [
    "url_pattern = re.compile(\n",
    "    r'http[s]?://(?:[a-zA-Z]|[0-9]|[$-_@.&+]|[!*\\\\(\\\\),]|(?:%[0-9a-fA-F][0-9a-fA-F]))+|'\n",
    "    r'www\\.(?:[a-zA-Z]|[0-9]|[$-_@.&+]|[!*\\\\(\\\\),]|(?:%[0-9a-fA-F][0-9a-fA-F]))+|'\n",
    "    r'ftp://(?:[a-zA-Z]|[0-9]|[$-_@.&+]|[!*\\\\(\\\\),]|(?:%[0-9a-fA-F][0-9a-fA-F]))+'\n",
    ")\n",
    "\n",
    "email_pattern = re.compile(\n",
    "    r'[a-zA-Z0-9._%+-]+@[a-zA-Z0-9.-]+\\.[a-zA-Z]{2,}'\n",
    ")"
   ]
  },
  {
   "cell_type": "code",
   "execution_count": null,
   "id": "6d4f7b65-4b8b-47ce-a6df-58eb8b617dca",
   "metadata": {
    "deletable": true,
    "editable": true,
    "frozen": false
   },
   "outputs": [],
   "source": [
    "def get_lower_description(description):\n",
    "    return description.lower()"
   ]
  },
  {
   "cell_type": "code",
   "execution_count": null,
   "id": "20ba12e1-7c9e-4a51-9087-8c0948aad05a",
   "metadata": {
    "deletable": true,
    "editable": true,
    "frozen": false
   },
   "outputs": [],
   "source": [
    "def remove_special_characters(description):\n",
    "    cleared_description = re.sub(r'[^A-Za-z0-9\\s]', ' ', description)\n",
    "    return cleared_description"
   ]
  },
  {
   "cell_type": "code",
   "execution_count": null,
   "id": "e609baee-0233-401c-9ea9-89c2685940bd",
   "metadata": {
    "deletable": true,
    "editable": true,
    "frozen": false
   },
   "outputs": [],
   "source": [
    "def contains_emoji(text):\n",
    "    return any(char in emoji.EMOJI_DATA for char in text)"
   ]
  },
  {
   "cell_type": "code",
   "execution_count": null,
   "id": "391ad449-8e7c-47fe-a6a4-e4a7706b5533",
   "metadata": {
    "deletable": true,
    "editable": true,
    "frozen": false
   },
   "outputs": [],
   "source": [
    "def remove_emojis_emoji_lib(text):\n",
    "    return emoji.replace_emoji(text, replace=' ')"
   ]
  },
  {
   "cell_type": "code",
   "execution_count": null,
   "id": "449c43bd-3b8d-45e3-b6f8-9277beb7dbe0",
   "metadata": {
    "deletable": true,
    "editable": true,
    "frozen": false
   },
   "outputs": [],
   "source": [
    "def contains_url(text):\n",
    "    return bool(url_pattern.search(text))"
   ]
  },
  {
   "cell_type": "code",
   "execution_count": null,
   "id": "3107fbc1-34e6-43ec-a0a2-b45b43eaae95",
   "metadata": {
    "deletable": true,
    "editable": true,
    "frozen": false
   },
   "outputs": [],
   "source": [
    "def remove_urls(text):\n",
    "    return url_pattern.sub(' ', text)"
   ]
  },
  {
   "cell_type": "code",
   "execution_count": null,
   "id": "f7d6b607-227b-4dcc-82fc-4d006057a659",
   "metadata": {
    "deletable": true,
    "editable": true,
    "frozen": false
   },
   "outputs": [],
   "source": [
    "def contains_email(text):\n",
    "    return bool(email_pattern.search(text))"
   ]
  },
  {
   "cell_type": "code",
   "execution_count": null,
   "id": "3ff70e36-1439-45f5-aa91-b26d37bb3383",
   "metadata": {
    "deletable": true,
    "editable": true,
    "frozen": false
   },
   "outputs": [],
   "source": [
    "def remove_emails(text):\n",
    "    return email_pattern.sub(' ', text)"
   ]
  },
  {
   "cell_type": "code",
   "execution_count": null,
   "id": "e318f4ca-4313-4761-ab27-dbe7821debf8",
   "metadata": {
    "deletable": true,
    "editable": true,
    "frozen": false
   },
   "outputs": [],
   "source": [
    "def remove_stopwords(text):\n",
    "    stop_words = set(stopwords.words('english'))\n",
    "    word_tokens = word_tokenize(text)\n",
    "    filtered_text = [word for word in word_tokens if word.lower() not in stop_words]\n",
    "    return ' '.join(filtered_text)"
   ]
  },
  {
   "cell_type": "code",
   "execution_count": null,
   "id": "cbb1498f-88f0-4f41-b476-78876e3cfd6c",
   "metadata": {
    "deletable": true,
    "editable": true,
    "frozen": false
   },
   "outputs": [],
   "source": [
    "def remove_multiple_white_spaces(text):\n",
    "    return re.sub(r'\\s+', ' ', text)"
   ]
  },
  {
   "cell_type": "code",
   "execution_count": null,
   "id": "e32d5939-c6a8-41d0-93d2-75276dc540bd",
   "metadata": {
    "deletable": true,
    "editable": true,
    "frozen": false
   },
   "outputs": [],
   "source": [
    "def remove_numerical_values(text):\n",
    "    return re.sub(r'\\d+', '', text)"
   ]
  },
  {
   "cell_type": "code",
   "execution_count": null,
   "id": "e0c3fd3a-ae6e-4237-ac3a-1d11040ba220",
   "metadata": {
    "deletable": true,
    "editable": true,
    "frozen": false
   },
   "outputs": [],
   "source": [
    "def process_descriptions(data):\n",
    "    processed_descriptions = []\n",
    "    for idx, row in tqdm(data.iterrows(), total=len(data)):\n",
    "        current_description = row[\"id\"]\n",
    "        pkn = row[\"p\"]\n",
    "        # lowering\n",
    "        lower_description = get_lower_description(current_description)\n",
    "        # emoji removal\n",
    "        description_without_emojis = remove_emojis_emoji_lib(lower_description)\n",
    "        # urls removal\n",
    "        description_without_urls = remove_urls(description_without_emojis)\n",
    "        # emails removal\n",
    "        description_without_emails = remove_emails(description_without_urls)\n",
    "        # remove numerical values\n",
    "        descriprion_without_numbers = remove_numerical_values(description_without_emails)\n",
    "        # special characters removal\n",
    "        cleared_description = remove_special_characters(descriprion_without_numbers)\n",
    "        # white spaces removal \n",
    "        cleared_description = remove_multiple_white_spaces(cleared_description)\n",
    "        # stop words removal\n",
    "        # stopwords_removed = remove_stopwords(cleared_description)\n",
    "        # store data of the above steps \n",
    "        processed_descriptions.append(cleared_description)\n",
    "    \n",
    "    return processed_descriptions"
   ]
  },
  {
   "cell_type": "code",
   "execution_count": null,
   "id": "c4f4e4b2-e596-4f08-b4b5-1f8c8d581df6",
   "metadata": {
    "deletable": true,
    "editable": true,
    "frozen": false
   },
   "outputs": [],
   "source": [
    "category_data[\"pd\"] = process_descriptions(category_data)"
   ]
  },
  {
   "cell_type": "markdown",
   "id": "f9c2c384-a90b-4e94-821c-4d606de10bfc",
   "metadata": {
    "deletable": true,
    "editable": true,
    "frozen": false
   },
   "source": [
    "### Remove Segmented Words"
   ]
  },
  {
   "cell_type": "code",
   "execution_count": null,
   "id": "d61d9d6d-7a09-4734-ad50-0a75d57b33c8",
   "metadata": {
    "deletable": true,
    "editable": true,
    "frozen": false
   },
   "outputs": [],
   "source": [
    "def get_all_words(data):\n",
    "    words = list()\n",
    "    for description in tqdm(data, total=len(data)):\n",
    "        words.extend(list(set(description.split())))\n",
    "    return list(set(words))"
   ]
  },
  {
   "cell_type": "code",
   "execution_count": null,
   "id": "e826d355-e61a-4324-8b63-02bdf2f21fde",
   "metadata": {
    "deletable": true,
    "editable": true,
    "frozen": false
   },
   "outputs": [],
   "source": [
    "all_words = get_all_words(category_data[\"pd\"].to_list())"
   ]
  },
  {
   "cell_type": "markdown",
   "id": "5d6ca681-0d11-4d6a-b7bc-db33d6de4d9d",
   "metadata": {
    "deletable": true,
    "editable": true,
    "frozen": false
   },
   "source": [
    "#### Check for Segmented Words"
   ]
  },
  {
   "cell_type": "code",
   "execution_count": null,
   "id": "72e60a53-f456-4689-ae1c-4341579c12cd",
   "metadata": {
    "deletable": true,
    "editable": true,
    "frozen": false
   },
   "outputs": [],
   "source": [
    "def get_batches(lst, batch_size):\n",
    "    batches = [lst[i:i + batch_size] for i in range(0, len(lst), batch_size)]\n",
    "    return batches"
   ]
  },
  {
   "cell_type": "code",
   "execution_count": null,
   "id": "9329bfae-7f4e-438b-baa0-6fc5c4f59fdf",
   "metadata": {
    "deletable": true,
    "editable": true,
    "frozen": false
   },
   "outputs": [],
   "source": [
    "all_words_batches = get_batches(all_words, 1000)"
   ]
  },
  {
   "cell_type": "code",
   "execution_count": null,
   "id": "cdddc35e-000e-48d2-b16b-9c1d2855ce64",
   "metadata": {
    "deletable": true,
    "editable": true,
    "frozen": false
   },
   "outputs": [],
   "source": [
    "def check_segmentation(input_string: str) -> bool:\n",
    "    seg_words = segment(input_string)\n",
    "    return seg_words[0] == input_string and len(seg_words) == 1"
   ]
  },
  {
   "cell_type": "code",
   "execution_count": null,
   "id": "84346ef5-8758-4d21-ae19-ed167055e40d",
   "metadata": {
    "deletable": true,
    "editable": true,
    "frozen": false
   },
   "outputs": [],
   "source": [
    "def get_segmented_words(words):\n",
    "    global segmented_words\n",
    "    for word in tqdm(words, total=len(words)):\n",
    "        if not check_segmentation(word):\n",
    "            segmented_words[word] = ' '.join(segment(word))\n",
    "    return segmented_words"
   ]
  },
  {
   "cell_type": "code",
   "execution_count": null,
   "id": "707153cf-3a0a-4f5b-a2da-ae1758d7e650",
   "metadata": {
    "deletable": true,
    "editable": true,
    "frozen": false,
    "scrolled": true
   },
   "outputs": [],
   "source": [
    "segmented_words = dict()\n",
    "\n",
    "with ProcessPoolExecutor(80) as exe:\n",
    "    for response in exe.map(get_segmented_words, all_words_batches, chunksize=15):\n",
    "        segmented_words.update(response)"
   ]
  },
  {
   "cell_type": "code",
   "execution_count": null,
   "id": "8f7d0b5c-b6c8-4c2d-87c6-5f84527010e5",
   "metadata": {
    "deletable": true,
    "editable": true,
    "frozen": false
   },
   "outputs": [],
   "source": [
    "print(len(all_words))"
   ]
  },
  {
   "cell_type": "code",
   "execution_count": null,
   "id": "c3f60701-b522-424e-b757-b64a5b972259",
   "metadata": {
    "deletable": true,
    "editable": true,
    "frozen": false
   },
   "outputs": [],
   "source": [
    "print(len(segmented_words))"
   ]
  },
  {
   "cell_type": "code",
   "execution_count": null,
   "id": "d1c955d2-c110-456c-833b-64fa5b6e18f1",
   "metadata": {
    "deletable": true,
    "editable": true,
    "frozen": false
   },
   "outputs": [],
   "source": [
    "len(all_words) - len(segmented_words)"
   ]
  },
  {
   "cell_type": "markdown",
   "id": "b0dd15b9-cfd5-46c0-98e4-7d463e4b2783",
   "metadata": {
    "deletable": true,
    "editable": true,
    "frozen": false
   },
   "source": [
    "#### Replace Segmented Words"
   ]
  },
  {
   "cell_type": "code",
   "execution_count": null,
   "id": "04cabfb9-5ea7-43d9-842d-82a053be7d9d",
   "metadata": {
    "deletable": true,
    "editable": true,
    "frozen": false
   },
   "outputs": [],
   "source": [
    "def replace_segmented_words(data, segmented_words_dict):\n",
    "    no_segmented_words = list()\n",
    "    for idx, row in tqdm(data.iterrows(), total=len(data)): \n",
    "        filtered_words = []\n",
    "        for word in row[\"pd\"].split():\n",
    "            if word in segmented_words_dict:\n",
    "                filtered_words.append(segmented_words_dict[word])\n",
    "            else:\n",
    "                filtered_words.append(word)\n",
    "        no_segmented_words.append(' '.join(filtered_words))\n",
    "    return no_segmented_words"
   ]
  },
  {
   "cell_type": "code",
   "execution_count": null,
   "id": "35ab98de-ec1e-47dd-aa67-a6f35f3110b2",
   "metadata": {
    "deletable": true,
    "editable": true,
    "frozen": false
   },
   "outputs": [],
   "source": [
    "category_data[\"pd\"] = replace_segmented_words(\n",
    "    category_data, \n",
    "    segmented_words\n",
    ")"
   ]
  },
  {
   "cell_type": "markdown",
   "id": "41598746-cc5c-4aa9-b0d7-6d752ef806cc",
   "metadata": {
    "deletable": true,
    "editable": true,
    "frozen": false
   },
   "source": [
    "### Remove Non-English Words"
   ]
  },
  {
   "cell_type": "code",
   "execution_count": null,
   "id": "d39de883-3a7d-4848-adef-4edbdd6f78a3",
   "metadata": {
    "deletable": true,
    "editable": true,
    "frozen": false
   },
   "outputs": [],
   "source": [
    "from spellchecker import SpellChecker"
   ]
  },
  {
   "cell_type": "code",
   "execution_count": null,
   "id": "e211d2ac-63f0-44d0-a42c-6eb8f542856b",
   "metadata": {
    "deletable": true,
    "editable": true,
    "frozen": false
   },
   "outputs": [],
   "source": [
    "spell = SpellChecker()"
   ]
  },
  {
   "cell_type": "code",
   "execution_count": null,
   "id": "e15c72fb-ce7a-41be-81e7-12628e21730b",
   "metadata": {
    "deletable": true,
    "editable": true,
    "frozen": false
   },
   "outputs": [],
   "source": [
    "all_words = get_all_words(category_data[\"pd\"].to_list())"
   ]
  },
  {
   "cell_type": "code",
   "execution_count": null,
   "id": "59c4c64e-4143-43ed-b4e9-d0582530c7cb",
   "metadata": {
    "deletable": true,
    "editable": true,
    "frozen": false
   },
   "outputs": [],
   "source": [
    "len(all_words)"
   ]
  },
  {
   "cell_type": "code",
   "execution_count": null,
   "id": "713e9b87-b4ed-4359-91b5-6a13797f64e7",
   "metadata": {
    "deletable": true,
    "editable": true,
    "frozen": false
   },
   "outputs": [],
   "source": [
    "non_eng_words = []\n",
    "for word in all_words:\n",
    "    if word not in spell:\n",
    "        non_eng_words.append(word)"
   ]
  },
  {
   "cell_type": "code",
   "execution_count": null,
   "id": "a8d72524-d59e-4883-8307-cccbe9ecfaf8",
   "metadata": {
    "deletable": true,
    "editable": true,
    "frozen": false
   },
   "outputs": [],
   "source": [
    "len(non_eng_words)"
   ]
  },
  {
   "cell_type": "code",
   "execution_count": null,
   "id": "9523feed-84ef-4f01-81d5-18dce030e7ac",
   "metadata": {
    "deletable": true,
    "editable": true,
    "frozen": false
   },
   "outputs": [],
   "source": [
    "def remove_non_eng_words(data, non_eng_words):\n",
    "    without_non_english_words = list()\n",
    "    for idx, row in tqdm(data.iterrows(), total=len(data)):\n",
    "        filtered_words = [word for word in row[\"pd\"].split() if word not in non_eng_words]\n",
    "        updated_description = ' '.join(filtered_words) \n",
    "        without_non_english_words.append(updated_description)\n",
    "    return without_non_english_words"
   ]
  },
  {
   "cell_type": "code",
   "execution_count": null,
   "id": "a91bf1d9-f943-466b-86a8-5724636745c3",
   "metadata": {
    "deletable": true,
    "editable": true,
    "frozen": false
   },
   "outputs": [],
   "source": [
    "category_data[\"pd\"] = remove_non_eng_words(category_data, non_eng_words)"
   ]
  },
  {
   "cell_type": "markdown",
   "id": "ae42f90b-b637-4b13-89d7-479721d06606",
   "metadata": {
    "deletable": true,
    "editable": true,
    "frozen": false
   },
   "source": [
    "### Remove Stop Words"
   ]
  },
  {
   "cell_type": "code",
   "execution_count": null,
   "id": "0437e443-fef4-4b18-b9c3-5b91e2cd8eba",
   "metadata": {
    "deletable": true,
    "editable": true,
    "frozen": false
   },
   "outputs": [],
   "source": [
    "def remove_stopwords(text):\n",
    "    stop_words = set(stopwords.words('english'))\n",
    "    word_tokens = word_tokenize(text)\n",
    "    filtered_text = [word for word in word_tokens if word.lower() not in stop_words]\n",
    "    return ' '.join(filtered_text)"
   ]
  },
  {
   "cell_type": "code",
   "execution_count": null,
   "id": "09bcf1a5-f0be-42de-aab9-060d5b8bf3c4",
   "metadata": {
    "deletable": true,
    "editable": true,
    "frozen": false
   },
   "outputs": [],
   "source": [
    "def remove_sw_from_data(data):\n",
    "    no_stop_words = list()\n",
    "    for idx, row in tqdm(data.iterrows(), total=len(data)):\n",
    "        no_stop_words.append(remove_stopwords(row[\"pd\"]))\n",
    "    return no_stop_words"
   ]
  },
  {
   "cell_type": "code",
   "execution_count": null,
   "id": "2f7e4511-9835-4ab9-a4ae-c708ae99e4d2",
   "metadata": {
    "deletable": true,
    "editable": true,
    "frozen": false
   },
   "outputs": [],
   "source": [
    "category_data[\"pd\"] = remove_sw_from_data(category_data)"
   ]
  },
  {
   "cell_type": "markdown",
   "id": "c739c137-3b82-4a66-9631-40e25c99bd79",
   "metadata": {
    "deletable": true,
    "editable": true,
    "frozen": false
   },
   "source": [
    "### Remove Words With <= 4 characters"
   ]
  },
  {
   "cell_type": "code",
   "execution_count": null,
   "id": "5fe6f838-75e1-49a0-a867-34b531509f8a",
   "metadata": {
    "deletable": true,
    "editable": true,
    "frozen": false
   },
   "outputs": [],
   "source": [
    "no_small_words = []\n",
    "\n",
    "for idx, row in category_data.iterrows():\n",
    "    new_sentence = []\n",
    "    for word in row[\"pd\"].split(\" \"):\n",
    "        if len(word) > 4:\n",
    "            new_sentence.append(word)\n",
    "\n",
    "    no_small_words.append(\" \".join(new_sentence))"
   ]
  },
  {
   "cell_type": "code",
   "execution_count": null,
   "id": "bdc39c20-cdfc-4827-9c73-2746f2f50499",
   "metadata": {
    "deletable": true,
    "editable": true,
    "frozen": false
   },
   "outputs": [],
   "source": [
    "category_data[\"pd\"] = no_small_words"
   ]
  },
  {
   "cell_type": "code",
   "execution_count": null,
   "id": "04ab4bea-bd72-43f8-bc3d-6a35ffbc2153",
   "metadata": {
    "deletable": true,
    "editable": true,
    "frozen": false
   },
   "outputs": [],
   "source": [
    "len(category_data)"
   ]
  },
  {
   "cell_type": "code",
   "execution_count": null,
   "id": "18e93703-8527-47b7-9389-884be52dfd15",
   "metadata": {
    "deletable": true,
    "editable": true,
    "frozen": false
   },
   "outputs": [],
   "source": [
    "category_data_filtered = category_data[category_data['pd'].str.split(\" \").str.len() > 2]"
   ]
  },
  {
   "cell_type": "code",
   "execution_count": null,
   "id": "2204e2d3-fb61-4554-80f0-e64de79a1c4d",
   "metadata": {
    "deletable": true,
    "editable": true,
    "frozen": false
   },
   "outputs": [],
   "source": [
    "len(category_data_filtered)"
   ]
  },
  {
   "cell_type": "markdown",
   "id": "1dad8bfa-a997-43d2-9aae-c0053089f1c3",
   "metadata": {
    "deletable": true,
    "editable": true,
    "frozen": false
   },
   "source": [
    "# Outliers Detection with OutOfDistribution"
   ]
  },
  {
   "cell_type": "markdown",
   "id": "e3680ef0-d4ba-43ff-aa39-103818876567",
   "metadata": {
    "deletable": true,
    "editable": true,
    "frozen": false
   },
   "source": [
    "## Load Processed Data"
   ]
  },
  {
   "cell_type": "code",
   "execution_count": null,
   "id": "8e620386-b7c0-443d-8f25-d966221407d0",
   "metadata": {
    "deletable": true,
    "editable": true,
    "frozen": false
   },
   "outputs": [],
   "source": [
    "\"\"\"\n",
    "category_data_path - path to a file containing already preprocessed applications descriptions\n",
    "\"\"\"\n",
    "# category_data_path = "
   ]
  },
  {
   "cell_type": "code",
   "execution_count": null,
   "id": "1ed2a252-328b-42df-b943-11b6f6f1aab1",
   "metadata": {
    "deletable": true,
    "editable": true,
    "frozen": false
   },
   "outputs": [],
   "source": [
    "category_data = pd.read_csv(category_data_path, index_col=False)\n",
    "categories_definitions_df[\"p\"] = [category.lower() for category in categories_definitions_df[\"p\"].to_list()]"
   ]
  },
  {
   "cell_type": "markdown",
   "id": "fbb99f03-88ab-4a7a-a56c-afb77d4b693b",
   "metadata": {
    "deletable": true,
    "editable": true,
    "frozen": false
   },
   "source": [
    "## Prepare Environment"
   ]
  },
  {
   "cell_type": "code",
   "execution_count": null,
   "id": "d7aceac2-83d3-4286-8ace-a188b5b59f6b",
   "metadata": {
    "deletable": true,
    "editable": true,
    "frozen": false
   },
   "outputs": [],
   "source": [
    "def ensure_directory_exists(path):\n",
    "    if not os.path.isdir(path):\n",
    "        os.makedirs(path)\n",
    "        print(f\"Directory created at: {path}\")\n",
    "    else:\n",
    "        print(f\"Directory already exists at: {path}\")"
   ]
  },
  {
   "cell_type": "code",
   "execution_count": null,
   "id": "dd3623f7-284c-49d7-9cf5-ff19f9ef96d6",
   "metadata": {
    "deletable": true,
    "editable": true,
    "frozen": false
   },
   "outputs": [],
   "source": [
    "category_path = \"data/\" + current_category.lower()\n",
    "ensure_directory_exists(category_path)"
   ]
  },
  {
   "cell_type": "markdown",
   "id": "044e7a40-6041-4611-96ac-79a1f2a8d0ae",
   "metadata": {
    "deletable": true,
    "editable": true,
    "frozen": false
   },
   "source": [
    "## Split the Dataset"
   ]
  },
  {
   "cell_type": "code",
   "execution_count": null,
   "id": "ecc4949a-87f7-4cff-9aa5-7a9f4655c973",
   "metadata": {
    "deletable": true,
    "editable": true,
    "frozen": false
   },
   "outputs": [],
   "source": [
    "def select_current_category_train_and_test_data(data_df):\n",
    "    to_use_for_train_df = data_df[data_df[\"is_popular_app\"] == True]\n",
    "    to_use_for_test_df = data_df[data_df[\"is_popular_app\"] == False]\n",
    "    \n",
    "    return to_use_for_train_df, to_use_for_test_df"
   ]
  },
  {
   "cell_type": "code",
   "execution_count": null,
   "id": "3549b7b5-7656-4e00-96f1-e49f4d04e298",
   "metadata": {
    "deletable": true,
    "editable": true,
    "frozen": false
   },
   "outputs": [],
   "source": [
    "to_use_for_train_df, to_use_for_test_df = select_current_category_train_and_test_data(category_data)"
   ]
  },
  {
   "cell_type": "code",
   "execution_count": null,
   "id": "5aa4fc77-7a25-4a4a-adbe-90e16edca8b0",
   "metadata": {
    "deletable": true,
    "editable": true,
    "frozen": false
   },
   "outputs": [],
   "source": [
    "# Assign to train data the category definition\n",
    "to_use_for_train_df.loc[len(to_use_for_train_df)] = [current_category,  \n",
    "                                                     categories_definitions_df[categories_definitions_df[\"p\"] == current_category][\"id\"].tolist()[0],\n",
    "                                                     current_category,\n",
    "                                                     current_category,\n",
    "                                                     True,\n",
    "                                                     categories_definitions_df[categories_definitions_df[\"p\"] == current_category][\"pd\"].tolist()[0]]"
   ]
  },
  {
   "cell_type": "markdown",
   "id": "7a14fbfd-a940-4461-8340-4efdcd4c797c",
   "metadata": {
    "deletable": true,
    "editable": true,
    "frozen": false
   },
   "source": [
    "## Getting Data Embeddings"
   ]
  },
  {
   "cell_type": "code",
   "execution_count": null,
   "id": "e34428a6-da86-4f6e-b749-f4420cbcf997",
   "metadata": {
    "deletable": true,
    "editable": true,
    "frozen": false
   },
   "outputs": [],
   "source": [
    "model_name = 'bert-base-uncased'\n",
    "tokenizer = BertTokenizer.from_pretrained(model_name)\n",
    "model = BertModel.from_pretrained(model_name)"
   ]
  },
  {
   "cell_type": "code",
   "execution_count": null,
   "id": "d13aa627-8938-472c-ab6c-5316ff4a2708",
   "metadata": {
    "deletable": true,
    "editable": true,
    "frozen": false,
    "scrolled": true
   },
   "outputs": [],
   "source": [
    "device = torch.device(\"cuda\") if torch.cuda.is_available() else torch.device(\"cpu\")\n",
    "model.to(device)\n",
    "model.eval()"
   ]
  },
  {
   "cell_type": "code",
   "execution_count": null,
   "id": "65c2db07-3dd6-411c-9c5b-0edf2a84727f",
   "metadata": {
    "deletable": true,
    "editable": true,
    "frozen": false
   },
   "outputs": [],
   "source": [
    "def mean_pooling(model_output, attention_mask):\n",
    "    token_embeddings = model_output[0] \n",
    "    input_mask_expanded = attention_mask.unsqueeze(-1).expand(token_embeddings.size()).float()\n",
    "    return torch.sum(token_embeddings * input_mask_expanded, 1) / torch.clamp(input_mask_expanded.sum(1), min=1e-9)"
   ]
  },
  {
   "cell_type": "code",
   "execution_count": null,
   "id": "5f83fc9e-ef46-429a-9e83-900644c39cfc",
   "metadata": {
    "deletable": true,
    "editable": true,
    "frozen": false
   },
   "outputs": [],
   "source": [
    "def get_embeddings(data):\n",
    "    description_embeddings  = []\n",
    "    feature_embeddings = []\n",
    "    pkns_and_embeddings = dict()\n",
    "\n",
    "    for idx, row in tqdm(data.iterrows(), total=len(data)):\n",
    "        description = row['pd']\n",
    "        pkn = row['p']\n",
    "        encoded_description = (tokenizer(description, \n",
    "                                        padding=True,\n",
    "                                        truncation=True,\n",
    "                                        return_tensors='pt'))\n",
    "        with torch.no_grad():\n",
    "            encoded_description = encoded_description.to(device)\n",
    "            model_description_output = model(**encoded_description)\n",
    "    \n",
    "        pooled_description = mean_pooling(model_description_output,\n",
    "                                          encoded_description['attention_mask']).cpu().numpy()\n",
    "        description_embeddings.extend(pooled_description)\n",
    "        pkns_and_embeddings[pkn] = pooled_description\n",
    "        \n",
    "\n",
    "    embeddings = np.concatenate([np.array(description_embeddings),\n",
    "                                ], axis=1)\n",
    "\n",
    "    return embeddings, pkns_and_embeddings"
   ]
  },
  {
   "cell_type": "code",
   "execution_count": null,
   "id": "e735418f-8009-4c5f-b561-4646fb5d7ab6",
   "metadata": {
    "deletable": true,
    "editable": true,
    "frozen": false
   },
   "outputs": [],
   "source": [
    "train_embeddings, train_pkns_and_embeddings = get_embeddings(to_use_for_train_df)"
   ]
  },
  {
   "cell_type": "code",
   "execution_count": null,
   "id": "3cc0f7e6-76f1-4887-b855-bb69f9a693db",
   "metadata": {
    "deletable": true,
    "editable": true,
    "frozen": false
   },
   "outputs": [],
   "source": [
    "test_embeddings, test_pkns_and_embeddings = get_embeddings(to_use_for_test_df)"
   ]
  },
  {
   "cell_type": "code",
   "execution_count": null,
   "id": "2c351f12-5ba9-4cae-9e85-2f21c2c9fe7e",
   "metadata": {
    "deletable": true,
    "editable": true,
    "frozen": false
   },
   "outputs": [],
   "source": [
    "import torch, gc\n",
    "del tokenizer\n",
    "del model\n",
    "gc.collect()\n",
    "torch.cuda.empty_cache()\n",
    "torch.cuda.ipc_collect()"
   ]
  },
  {
   "cell_type": "markdown",
   "id": "0441f54c-7788-47c8-91bc-50eca80be0b5",
   "metadata": {
    "deletable": true,
    "editable": true,
    "frozen": false
   },
   "source": [
    "## Compute the Outliers"
   ]
  },
  {
   "cell_type": "code",
   "execution_count": null,
   "id": "c1b73a14-d915-40d0-8688-27e0b49f2646",
   "metadata": {
    "deletable": true,
    "editable": true,
    "frozen": false
   },
   "outputs": [],
   "source": [
    "from cleanlab.rank import find_top_issues"
   ]
  },
  {
   "cell_type": "code",
   "execution_count": null,
   "id": "53891314-44ea-4537-b2c7-eb500d496cf8",
   "metadata": {
    "deletable": true,
    "editable": true,
    "frozen": false
   },
   "outputs": [],
   "source": [
    "def get_ood_scores(train_embeddings, test_embeddings):\n",
    "    ood = OutOfDistribution()\n",
    "    train_outlier_scores = ood.fit_score(features=train_embeddings)\n",
    "    test_outliers_scores = ood.score(features=test_embeddings)\n",
    "\n",
    "    return train_outlier_scores, test_outliers_scores"
   ]
  },
  {
   "cell_type": "code",
   "execution_count": null,
   "id": "5251f8a7-db1b-459c-97bd-6aa7e3ff35eb",
   "metadata": {
    "deletable": true,
    "editable": true,
    "frozen": false
   },
   "outputs": [],
   "source": [
    "train_outlier_scores, test_outliers_scores = get_ood_scores(train_embeddings, \n",
    "                                                            test_embeddings)"
   ]
  },
  {
   "cell_type": "code",
   "execution_count": null,
   "id": "e33b221b-c8c7-494e-8c6f-dc3e529097fa",
   "metadata": {
    "deletable": true,
    "editable": true,
    "frozen": false
   },
   "outputs": [],
   "source": [
    "percentile_value = 5\n",
    "threshold = np.percentile(train_outlier_scores, percentile_value)\n",
    "threshold"
   ]
  },
  {
   "cell_type": "code",
   "execution_count": null,
   "id": "03ce9cc0-6bd4-444d-881d-40a388f5097f",
   "metadata": {
    "deletable": true,
    "editable": true,
    "frozen": false
   },
   "outputs": [],
   "source": [
    "fifth_percentile = np.percentile(train_outlier_scores, 5)\n",
    "\n",
    "# Plot outlier_score distributions and the 5th percentile cutoff\n",
    "fig, axes = plt.subplots(nrows=1, ncols=2, figsize=(12, 5))\n",
    "plt_range = [min(train_outlier_scores.min(), test_outliers_scores.min()), \\\n",
    "             max(train_outlier_scores.max(), test_outliers_scores.max())]\n",
    "axes[0].hist(train_outlier_scores, range=plt_range, bins=50)\n",
    "axes[0].set(title='train_outlier_scores distribution', ylabel='Frequency')\n",
    "axes[0].axvline(x=fifth_percentile, color='red', linewidth=2)\n",
    "axes[1].hist(test_outliers_scores, range=plt_range, bins=50)\n",
    "axes[1].set(title='test_outlier_scores distribution', ylabel='Frequency')\n",
    "axes[1].axvline(x=fifth_percentile, color='red', linewidth=2)\n",
    "\n",
    "plt.show()"
   ]
  },
  {
   "cell_type": "code",
   "execution_count": null,
   "id": "fd8a28f1-fb1f-40d7-ba12-a3cfa24eba02",
   "metadata": {
    "deletable": true,
    "editable": true,
    "frozen": false
   },
   "outputs": [],
   "source": [
    "sorted_ids = test_outliers_scores.argsort()\n",
    "sorted_ids = np.sort(sorted_ids)\n",
    "outlier_scores = test_outliers_scores[sorted_ids]\n",
    "outlier_ids = sorted_ids[outlier_scores < threshold] # descriptions flagged as outliers\n",
    "good_samples_ids = sorted_ids[outlier_scores >= threshold]"
   ]
  },
  {
   "cell_type": "code",
   "execution_count": null,
   "id": "0e46b752-e4b8-43f0-a9e4-8f2d0a983d59",
   "metadata": {
    "deletable": true,
    "editable": true,
    "frozen": false
   },
   "outputs": [],
   "source": [
    "print(\"Number of good samples in test:\", len(good_samples_ids))\n",
    "print(\"Number of identified outliers in test:\", len(outlier_ids))"
   ]
  },
  {
   "cell_type": "code",
   "execution_count": null,
   "id": "50251258-557b-4d30-a14d-9f36aeb3b838",
   "metadata": {
    "deletable": true,
    "editable": true,
    "frozen": false
   },
   "outputs": [],
   "source": [
    "selected_outlier_subset = to_use_for_test_df.iloc[outlier_ids.tolist()]\n",
    "selected_good_samples_subset = to_use_for_test_df.iloc[good_samples_ids.tolist()]"
   ]
  },
  {
   "cell_type": "code",
   "execution_count": null,
   "id": "4acb8f11-5b59-4a1f-8319-765f872f7a87",
   "metadata": {
    "deletable": true,
    "editable": true,
    "frozen": false
   },
   "outputs": [],
   "source": [
    "selected_outlier_subset_embeddings = test_embeddings[outlier_ids]"
   ]
  },
  {
   "cell_type": "markdown",
   "id": "2322511e-0bfd-40d1-ad27-4f8b05284221",
   "metadata": {
    "deletable": true,
    "editable": true,
    "frozen": false
   },
   "source": [
    "# Cluster Outliers"
   ]
  },
  {
   "cell_type": "code",
   "execution_count": null,
   "id": "6e62eb4e-016b-46c3-b502-44b40e1d1ec7",
   "metadata": {
    "deletable": true,
    "editable": true,
    "frozen": false
   },
   "outputs": [],
   "source": [
    "def get_config_pairs(list1, list2, list3):\n",
    "    pairs_list = []\n",
    "    for nn in list1:\n",
    "        for msv in list2:\n",
    "            for msc in list3:\n",
    "                pairs_list.append((nn, msv, msc))\n",
    "    return pairs_list"
   ]
  },
  {
   "cell_type": "code",
   "execution_count": null,
   "id": "a8e2e5c1-69a6-4a5e-8360-69eb39493fa0",
   "metadata": {
    "deletable": true,
    "editable": true,
    "frozen": false
   },
   "outputs": [],
   "source": [
    "def cluster_outliers_no_plots(min_size, min_samples, metr, outliers_embeddings, \n",
    "                     train_outlier_scores, current_category):\n",
    "    clusterer = hdbscan.HDBSCAN(min_cluster_size=min_size, \n",
    "                                min_samples=min_samples,\n",
    "                                max_cluster_size=len(outliers_embeddings)/2,\n",
    "                                metric=metr)\n",
    "    clusterer.fit(outliers_embeddings)\n",
    "\n",
    "    return clusterer.labels_"
   ]
  },
  {
   "cell_type": "code",
   "execution_count": null,
   "id": "c515bd18-9459-41ec-985f-64c942d7d4f8",
   "metadata": {
    "deletable": true,
    "editable": true,
    "frozen": false
   },
   "outputs": [],
   "source": [
    "def evaluate_umap(selected_outlier_subset_embeddings, \n",
    "                  n_neighbors_values,\n",
    "                  metr,\n",
    "                  already_did_pairs,\n",
    "                  min_size_values=[2, 3, 5, 10, 15, 20, 30, 50, 100],\n",
    "                  min_samples_values=[2, 3, 5, 10, 15, 20, 30, 50, 100]\n",
    "                  ):\n",
    "    silhouette_scores = dict()\n",
    "    davies_bouldin_index = dict()\n",
    "    to_do_pairs_list = get_config_pairs(n_neighbors_values, min_size_values, min_samples_values)\n",
    "    pairs_to_process = []\n",
    "\n",
    "    for pair in to_do_pairs_list:\n",
    "        if pair not in already_did_pairs:\n",
    "            pairs_to_process.append(pair)\n",
    "            \n",
    "    for m in metr:\n",
    "        for pair in tqdm(pairs_to_process, total=len(pairs_to_process)):\n",
    "            n = pair[0]\n",
    "            min_size = pair[1]\n",
    "            min_samples = pair[2]\n",
    "\n",
    "            reducer = UMAP(n_neighbors=n, \n",
    "                           n_components=2,\n",
    "                           metric=m,\n",
    "                           random_state=42)\n",
    "            embedding_umap = reducer.fit_transform(selected_outlier_subset_embeddings)\n",
    "\n",
    "            labels = cluster_outliers_no_plots(\n",
    "                        min_size,\n",
    "                        min_samples, \n",
    "                        m,\n",
    "                        embedding_umap, \n",
    "                        train_outlier_scores,\n",
    "                        current_category\n",
    "            )\n",
    "\n",
    "            if len(set(labels)) > 1:\n",
    "                score = silhouette_score(embedding_umap, labels)\n",
    "                db_index = davies_bouldin_score(embedding_umap, labels)\n",
    "                print(\"n =\", n, \n",
    "                      \"| min_size =\", min_size, \n",
    "                      \"| min_samples =\", min_samples,\n",
    "                      \"| metric =\", m,\n",
    "                      \"| sil score =\", score,\n",
    "                      \"| davies index =\", db_index)\n",
    "                silhouette_scores[(n, min_size, min_samples, m)] = score\n",
    "            \n",
    "    return silhouette_scores"
   ]
  },
  {
   "cell_type": "code",
   "execution_count": null,
   "id": "c5c7637e-a419-4ad8-a8d0-2d5b499dc98c",
   "metadata": {
    "deletable": true,
    "editable": true,
    "frozen": false
   },
   "outputs": [],
   "source": [
    "n_neighbors_values = [2, 3, 5, 10, 15, 20, 30, 50, 100]\n",
    "metric = [\"euclidean\"]"
   ]
  },
  {
   "cell_type": "code",
   "execution_count": null,
   "id": "7ad3d96d-de71-4d35-9c56-4371d61f59ad",
   "metadata": {
    "deletable": true,
    "editable": true,
    "frozen": false,
    "scrolled": true
   },
   "outputs": [],
   "source": [
    "scores = evaluate_umap(selected_outlier_subset_embeddings, \n",
    "                       n_neighbors_values,\n",
    "                       metric, \n",
    "                       pairs_list)"
   ]
  },
  {
   "cell_type": "code",
   "execution_count": null,
   "id": "a0c58efa-cf5e-4fbf-af3b-97e218c44c78",
   "metadata": {
    "deletable": true,
    "editable": true,
    "frozen": false
   },
   "outputs": [],
   "source": [
    "max_score = max(scores, key=lambda k: scores[k])\n",
    "nn, min_size, min_samples, metric = max_score"
   ]
  },
  {
   "cell_type": "code",
   "execution_count": null,
   "id": "d4596c84-d826-482b-82e1-22cd9ad9a8f3",
   "metadata": {
    "deletable": true,
    "editable": true,
    "frozen": false
   },
   "outputs": [],
   "source": [
    "max_score"
   ]
  },
  {
   "cell_type": "code",
   "execution_count": null,
   "id": "2e7140a8-c42f-447a-8bc7-9eb2afbaec21",
   "metadata": {
    "deletable": true,
    "editable": true,
    "frozen": false
   },
   "outputs": [],
   "source": [
    "scores[max_score]"
   ]
  },
  {
   "cell_type": "code",
   "execution_count": null,
   "id": "b3dd76b3-0848-47b9-915d-322126abe7da",
   "metadata": {
    "deletable": true,
    "editable": true,
    "frozen": false,
    "scrolled": true
   },
   "outputs": [],
   "source": [
    "sorted_scores = dict(sorted(scores.items(), key=lambda item: item[1], reverse=True))"
   ]
  },
  {
   "cell_type": "code",
   "execution_count": null,
   "id": "ebc267fc-29fd-465e-ac20-fa71d2747319",
   "metadata": {
    "deletable": true,
    "editable": true,
    "frozen": false,
    "scrolled": true
   },
   "outputs": [],
   "source": [
    "sorted_scores"
   ]
  },
  {
   "cell_type": "markdown",
   "id": "4bb103e4-de27-45f1-8e89-6268d06afe35",
   "metadata": {
    "deletable": true,
    "editable": true,
    "frozen": false
   },
   "source": [
    "# Get clusters based on highest silouete score "
   ]
  },
  {
   "cell_type": "code",
   "execution_count": null,
   "id": "3b41826b-44c0-4974-93bf-c7003aa166c1",
   "metadata": {
    "deletable": true,
    "editable": true,
    "frozen": false
   },
   "outputs": [],
   "source": [
    "def plot_clusters(train_outlier_scores,\n",
    "                  current_category,\n",
    "                  min_size, min_samples,\n",
    "                  outliers_embeddings,\n",
    "                  clusterer):\n",
    "    cluster_labels = clusterer.labels_\n",
    "    \n",
    "    fig, axes = plt.subplots(nrows=1, ncols=3, figsize=(30, 15))\n",
    "    plt_range = [train_outlier_scores.min(), train_outlier_scores.max()]\n",
    "\n",
    "    axes[0].hist(train_outlier_scores, range=plt_range, bins=50)\n",
    "    axes[0].set(title=current_category + \" Outlier Scores Distribution\", ylabel='Frequency')\n",
    "    axes[0].axvline(x=threshold, color='red', linewidth=2)\n",
    "\n",
    "    x_plot, y_plot = outliers_embeddings[:, 0], outliers_embeddings[:, 1]\n",
    "    clusters_no = len(set(cluster_labels))\n",
    "    cmap = plt.get_cmap('turbo', clusters_no)\n",
    "    colors = cmap(np.linspace(0, 1, clusters_no))\n",
    "\n",
    "    for i in np.unique(cluster_labels):\n",
    "        if i != -1:\n",
    "            x, y = x_plot[cluster_labels == i], y_plot[cluster_labels == i]\n",
    "            axes[1].scatter(x, y, label=f\"cluster {i}\", c=colors[i])\n",
    "    \n",
    "    x, y = x_plot[cluster_labels == -1], y_plot[cluster_labels == -1]\n",
    "    \n",
    "    \n",
    "    axes[1].scatter(x, y, label=\"outliers\", color=\"gray\", alpha=0.15)\n",
    "    axes[1].set(title=current_category + \" UMAP Clustered Outliers\")\n",
    "    axes[1].legend()\n",
    "\n",
    "    clusterer.condensed_tree_.plot(select_clusters=True, \n",
    "                                   selection_palette=colors,\n",
    "                                   axis=axes[2])\n",
    "\n",
    "    axes[2].set(title=current_category + \" HDBSCAN Condensed Tree\")\n",
    "\n",
    "    plt.tight_layout()\n",
    "    fig_name = category_path + \"/\" + current_category + \"_\" + str(min_size) + \"_\" + str(min_samples) + \"_\" + str(percentile_value) + \"_plot.jpeg\"\n",
    "    plt.savefig(fig_name, format='jpeg', dpi=300) \n",
    "    pdf_name = category_path + \"/\" + current_category + \"_\" + str(min_size) + \"_\" + str(min_samples) + \"_\" + str(percentile_value) + \"_plot.pdf\"\n",
    "    plt.savefig(pdf_name)  \n",
    "    print(\"Plots and PDF saved!\")"
   ]
  },
  {
   "cell_type": "code",
   "execution_count": null,
   "id": "dd4f3e24-6db7-4179-92d0-d6a1135d7e49",
   "metadata": {
    "deletable": true,
    "editable": true,
    "frozen": false
   },
   "outputs": [],
   "source": [
    "def cluster_outliers(min_size, min_samples, metr, outliers_embeddings, \n",
    "                     train_outlier_scores, current_category):\n",
    "\n",
    "    clusterer = hdbscan.HDBSCAN(min_cluster_size=min_size, \n",
    "                                min_samples=min_samples,\n",
    "                                max_cluster_size=len(outliers_embeddings)/2,\n",
    "                                metric=metr)\n",
    "    clusterer.fit(outliers_embeddings)\n",
    "\n",
    "    plot_clusters(\n",
    "        train_outlier_scores, \n",
    "        current_category,\n",
    "        min_size, min_samples,\n",
    "        outliers_embeddings,\n",
    "        clusterer\n",
    "    )\n",
    "\n",
    "    return clusterer.labels_"
   ]
  },
  {
   "cell_type": "code",
   "execution_count": null,
   "id": "355569c1-f7ca-4bdf-945d-8b483a15b6c1",
   "metadata": {
    "deletable": true,
    "editable": true,
    "frozen": false
   },
   "outputs": [],
   "source": [
    "umap_fit = UMAP(n_components=2, n_neighbors=nn, random_state=SEED)\n",
    "selected_outlier_subset_embeddings_umap = umap_fit.fit_transform(selected_outlier_subset_embeddings)"
   ]
  },
  {
   "cell_type": "code",
   "execution_count": null,
   "id": "dfb772c3-4856-4215-89aa-cdc55b7db9ce",
   "metadata": {
    "deletable": true,
    "editable": true,
    "frozen": false,
    "scrolled": true
   },
   "outputs": [],
   "source": [
    "cluster_labels = cluster_outliers(\n",
    "    min_size, min_samples, metric,\n",
    "    selected_outlier_subset_embeddings_umap, \n",
    "    test_outliers_scores, current_category)"
   ]
  },
  {
   "cell_type": "code",
   "execution_count": null,
   "id": "40ada323-c71d-41cb-abe0-1708bf9a8687",
   "metadata": {
    "deletable": true,
    "editable": true,
    "frozen": false
   },
   "outputs": [],
   "source": [
    "selected_outlier_subset[\"cluster_labels\"] = cluster_labels"
   ]
  },
  {
   "cell_type": "code",
   "execution_count": null,
   "id": "9323af7a-c465-4cc8-a6d8-bcd9662e3b72",
   "metadata": {
    "deletable": true,
    "editable": true,
    "frozen": false,
    "scrolled": true
   },
   "outputs": [],
   "source": [
    "selected_outlier_subset[\"cluster_labels\"].value_counts().to_dict()"
   ]
  },
  {
   "cell_type": "markdown",
   "id": "c55ebada-2862-4b3e-88c3-635f2fd360d7",
   "metadata": {
    "deletable": true,
    "editable": true,
    "frozen": false
   },
   "source": [
    "# Inspect Outliers Clusters using LLMs"
   ]
  },
  {
   "cell_type": "code",
   "execution_count": null,
   "id": "3c7c61f6-5bc8-417b-9699-355d213c70be",
   "metadata": {
    "deletable": true,
    "editable": true,
    "frozen": false
   },
   "outputs": [],
   "source": [
    "import torch, gc\n",
    "gc.collect()\n",
    "torch.cuda.empty_cache()"
   ]
  },
  {
   "cell_type": "code",
   "execution_count": null,
   "id": "45e3b191-dda1-4c9f-bc80-78416517684b",
   "metadata": {
    "deletable": true,
    "editable": true,
    "frozen": false
   },
   "outputs": [],
   "source": [
    "import time\n",
    "import random\n",
    "import deepspeed\n",
    "import pandas as pd\n",
    "from huggingface_hub import login\n",
    "from transformers import LlamaForCausalLM, LlamaTokenizer\n",
    "from transformers import AutoModelForCausalLM, AutoTokenizer\n",
    "from accelerate import init_empty_weights, infer_auto_device_map\n",
    "\n",
    "login(token = 'login_token')"
   ]
  },
  {
   "cell_type": "code",
   "execution_count": null,
   "id": "e3d31e92-1b09-42b7-b4a4-c094e4e29d8e",
   "metadata": {
    "deletable": true,
    "editable": true,
    "frozen": false
   },
   "outputs": [],
   "source": [
    "outliers_data_for_llm = selected_outlier_subset.drop(columns=[\"ic\", \"is_popular_app\"])"
   ]
  },
  {
   "cell_type": "code",
   "execution_count": null,
   "id": "0b2de186-8311-4091-8c0d-59d1e815a26f",
   "metadata": {
    "deletable": true,
    "editable": true,
    "frozen": false
   },
   "outputs": [],
   "source": [
    "cluster_samples_distribution = outliers_data_for_llm[\"cluster_labels\"].value_counts().to_dict()"
   ]
  },
  {
   "cell_type": "markdown",
   "id": "ca5507ec-0e6d-4d81-92f1-c50c1c7cc55c",
   "metadata": {
    "deletable": true,
    "editable": true,
    "frozen": false
   },
   "source": [
    "## Load Model & Tokenizer"
   ]
  },
  {
   "cell_type": "code",
   "execution_count": null,
   "id": "3f413101-047e-4ee5-b076-75923b6b9c71",
   "metadata": {
    "deletable": true,
    "editable": true,
    "frozen": false
   },
   "outputs": [],
   "source": [
    "model_name = \"meta-llama/Llama-3.1-8B-Instruct\""
   ]
  },
  {
   "cell_type": "code",
   "execution_count": null,
   "id": "16b7adc6-bcce-4cae-8bb1-1f575b781986",
   "metadata": {
    "deletable": true,
    "editable": true,
    "frozen": false
   },
   "outputs": [],
   "source": [
    "tokenizer = AutoTokenizer.from_pretrained(model_name, padding_side='left')\n",
    "tokenizer.padding_side = \"left\""
   ]
  },
  {
   "cell_type": "code",
   "execution_count": null,
   "id": "0607b448-feb1-400c-9678-6601b38c8fb8",
   "metadata": {
    "deletable": true,
    "editable": true,
    "frozen": false
   },
   "outputs": [],
   "source": [
    "model = AutoModelForCausalLM.from_pretrained(\n",
    "    model_name,\n",
    "    torch_dtype=torch.bfloat16,\n",
    "    device_map=\"auto\"\n",
    ")"
   ]
  },
  {
   "cell_type": "markdown",
   "id": "44b41548-f8eb-4ff5-a746-ade85b41bc37",
   "metadata": {
    "deletable": true,
    "editable": true,
    "frozen": false
   },
   "source": [
    "## Initialize System Prompt"
   ]
  },
  {
   "cell_type": "code",
   "execution_count": null,
   "id": "a877f9f6-338c-4bab-b275-53bcb4733c97",
   "metadata": {
    "deletable": true,
    "editable": true,
    "frozen": false
   },
   "outputs": [],
   "source": [
    "SYSTEM_PROMPT = \"\"\"\n",
    " You are an expert in summarizing Android applications' standard functionalities and usage scope based on their descriptions. Your goal is to evaluate the overall functions and scopes of applications from a given set of applications' descriptions, highlighting their standard functionalities in a concise and accessible manner.\n",
    "\n",
    " Guidelines: \n",
    " 1. Neutral Summary: \n",
    " - For all applications descriptions provided, give one single functionality-based summary.\n",
    " - Provide a concise and unbiased summary of the applications' functionalities and usage scope. \n",
    " - Avoid assumptions or unsupported conclusions. Maintain a neutral and constructive tone.\n",
    "\n",
    " 2. Data Focus:\n",
    " - Analyze applications' descriptions to generate a general summary based on their standard functionalities.\n",
    "\n",
    " 3. Applications Descriptions Weighting:\n",
    " - Consider each application description equally, regardless of the word count, and asses the described functionalities points consistently. Avoid giving disproportionate weight to longer application descriptions. \n",
    "\n",
    " 4. Tone: \n",
    " - Adopt a neutral and slightly cautious tone when summarizing the application's general functionalities.\n",
    " - Ensure the overall summary remains professional, fair, and approachable.\n",
    "\n",
    " 5. Simplicity:\n",
    " - Use simple, accessible language without technical jargon or complex vocabulary.\n",
    "\n",
    " 6. Conciseness:\n",
    " - Provide insights concisely, focusing on essential details and functionalities.\n",
    "\n",
    " Output Requirements (JSON):\n",
    " Provide the overall application functionalities summary strictly in the following JSON format:\n",
    " {\n",
    " \"Summary\": \"[Short and concise general description of applications' functionalities and scope capturing the essential information and their common scope, around 100-200 words]\"\n",
    " }\n",
    "\"\"\""
   ]
  },
  {
   "cell_type": "code",
   "execution_count": null,
   "id": "29091f82-3064-46ac-a5f1-b570367744c8",
   "metadata": {
    "deletable": true,
    "editable": true,
    "frozen": false
   },
   "outputs": [],
   "source": [
    "gc.collect()\n",
    "torch.cuda.empty_cache()\n",
    "torch.cuda.ipc_collect()"
   ]
  },
  {
   "cell_type": "code",
   "execution_count": null,
   "id": "f6c65d97-3145-4b63-8c98-0ba270e6aa72",
   "metadata": {
    "deletable": true,
    "editable": true,
    "frozen": false
   },
   "outputs": [],
   "source": [
    "max_cluster_len = 600\n",
    "max_words_no = 20"
   ]
  },
  {
   "cell_type": "code",
   "execution_count": null,
   "id": "98a2bf04-716c-44ac-b849-fd0b323bacc1",
   "metadata": {
    "deletable": true,
    "editable": true,
    "frozen": false
   },
   "outputs": [],
   "source": [
    "def process_cluster_data(cluster_data, max_words_no):\n",
    "    new_cluster_data = []\n",
    "    for data in cluster_data:\n",
    "        new_data = \" \".join(list(set(data.split(\" \")))[:max_words_no])\n",
    "        new_cluster_data.append(new_data)\n",
    "    return  new_cluster_data"
   ]
  },
  {
   "cell_type": "markdown",
   "id": "3a59109b-016a-448c-ba54-24f87351b991",
   "metadata": {
    "deletable": true,
    "editable": true,
    "frozen": false
   },
   "source": [
    "## Generate Responses "
   ]
  },
  {
   "cell_type": "code",
   "execution_count": null,
   "id": "2076186c-23de-445f-88a1-ac7c7b11464d",
   "metadata": {
    "deletable": true,
    "editable": true,
    "frozen": false
   },
   "outputs": [],
   "source": [
    "llama_responses = dict()"
   ]
  },
  {
   "cell_type": "code",
   "execution_count": null,
   "id": "1d74deba-ec5f-4d7a-a46a-aa0e069f482e",
   "metadata": {
    "deletable": true,
    "editable": true,
    "frozen": false,
    "scrolled": true
   },
   "outputs": [],
   "source": [
    "for cluster_id in tqdm(cluster_samples_distribution, total=len(cluster_samples_distribution)):\n",
    "    print(\"Cluster ID:\", cluster_id)\n",
    "    gc.collect()\n",
    "    torch.cuda.empty_cache()\n",
    "    torch.cuda.ipc_collect()\n",
    "    start_time = time.time()\n",
    "    \n",
    "    cluster_data = selected_outlier_subset[selected_outlier_subset[\"cluster_labels\"] == cluster_id][\"pd\"].tolist()\n",
    "    processed_data = process_cluster_data(cluster_data, max_words_no)\n",
    "    random.shuffle(processed_data)\n",
    "\n",
    "    USER_PROMPT = \"\\n\".join(processed_data[:max_cluster_len])\n",
    "    messages = [\n",
    "        {\"role\": \"system\", \"content\": SYSTEM_PROMPT},\n",
    "        {\"role\": \"user\", \"content\": USER_PROMPT},\n",
    "    ]\n",
    "    formatted_text = tokenizer.apply_chat_template(messages,\n",
    "                                                   tokenize=False)\n",
    "\n",
    "    input_ids = tokenizer(formatted_text, return_tensors=\"pt\").to(model.device)\n",
    "    output_ids = model.generate(input_ids[\"input_ids\"], \n",
    "                                attention_mask=input_ids[\"attention_mask\"],\n",
    "                                max_new_tokens=256,\n",
    "                                num_beams=5,\n",
    "                                early_stopping=True,\n",
    "                                top_p=0.9,\n",
    "                                top_k=50,\n",
    "                                eos_token_id=tokenizer.eos_token_id,\n",
    "                                pad_token_id=tokenizer.pad_token_id)\n",
    "    response = tokenizer.decode(output_ids[0], skip_special_tokens=True)\n",
    "    llama_responses[cluster_id] = response.split(\"\\\"Summary\\\": \")[-1]\n",
    "    end_time = time.time()"
   ]
  },
  {
   "cell_type": "code",
   "execution_count": null,
   "id": "6a28dca6-71f0-4d1a-bb56-97e1ac986417",
   "metadata": {},
   "outputs": [],
   "source": [
    "cluster_data.head(20)"
   ]
  },
  {
   "cell_type": "code",
   "execution_count": null,
   "id": "1a62bb82-f716-4898-b393-a840d46c85f2",
   "metadata": {
    "deletable": true,
    "editable": true,
    "frozen": false,
    "scrolled": true
   },
   "outputs": [],
   "source": [
    "for cluster, response in llama_responses.items():\n",
    "    print(cluster, response)\n",
    "    print(\"______________________________________________________________________________________\")"
   ]
  },
  {
   "cell_type": "code",
   "execution_count": null,
   "id": "473b2a90-a20d-48b2-a29b-31b8f1788381",
   "metadata": {
    "deletable": true,
    "editable": true,
    "frozen": false
   },
   "outputs": [],
   "source": [
    "del model \n",
    "del tokenizer"
   ]
  },
  {
   "cell_type": "code",
   "execution_count": null,
   "id": "4ed8281d-8958-493a-8965-e3d9dea07a74",
   "metadata": {
    "deletable": true,
    "editable": true,
    "frozen": false
   },
   "outputs": [],
   "source": [
    "gc.collect()\n",
    "torch.cuda.empty_cache()\n",
    "torch.cuda.ipc_collect()"
   ]
  },
  {
   "cell_type": "code",
   "execution_count": null,
   "id": "04d2c599-e6b1-4400-95dc-7609c5d221ea",
   "metadata": {
    "deletable": true,
    "editable": true,
    "frozen": false
   },
   "outputs": [],
   "source": []
  },
  {
   "cell_type": "code",
   "execution_count": null,
   "id": "266e0593-c885-44c6-af9f-1ab52964a7a7",
   "metadata": {
    "deletable": true,
    "editable": true,
    "frozen": false
   },
   "outputs": [],
   "source": []
  },
  {
   "cell_type": "code",
   "execution_count": null,
   "id": "85c2ca80-d405-48dd-9514-330406e71643",
   "metadata": {
    "deletable": true,
    "editable": true,
    "frozen": false
   },
   "outputs": [],
   "source": []
  },
  {
   "cell_type": "code",
   "execution_count": null,
   "id": "77ec53b5-5168-4551-a0aa-03a7ec09490d",
   "metadata": {
    "deletable": true,
    "editable": true,
    "frozen": false
   },
   "outputs": [],
   "source": []
  }
 ],
 "metadata": {
  "kernelspec": {
   "display_name": "Python 3 (ipykernel)",
   "language": "python",
   "name": "python3"
  },
  "language_info": {
   "codemirror_mode": {
    "name": "ipython",
    "version": 3
   },
   "file_extension": ".py",
   "mimetype": "text/x-python",
   "name": "python",
   "nbconvert_exporter": "python",
   "pygments_lexer": "ipython3",
   "version": "3.11.0"
  }
 },
 "nbformat": 4,
 "nbformat_minor": 5
}

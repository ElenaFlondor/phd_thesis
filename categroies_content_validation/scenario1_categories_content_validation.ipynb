{
 "cells": [
  {
   "cell_type": "code",
   "execution_count": null,
   "metadata": {
    "ExecuteTime": {
     "end_time": "2023-11-05T14:33:11.825371Z",
     "start_time": "2023-11-05T14:33:10.463896Z"
    },
    "deletable": true,
    "editable": true,
    "frozen": false
   },
   "outputs": [],
   "source": [
    "import re\n",
    "import json\n",
    "import time\n",
    "import string\n",
    "import numpy as np\n",
    "import pandas as pd\n",
    "import seaborn as sns\n",
    "import matplotlib.pyplot as plt\n",
    "\n",
    "import nltk\n",
    "from nltk.corpus import wordnet\n",
    "from nltk.corpus import stopwords\n",
    "from nltk.stem import WordNetLemmatizer\n",
    "from nltk.tokenize import sent_tokenize, word_tokenize\n",
    "\n",
    "from sklearn.feature_extraction.text import CountVectorizer\n",
    "\n",
    "import warnings\n",
    "warnings.filterwarnings('ignore')\n",
    "\n",
    "# Enable logging\n",
    "import logging\n",
    "logging.basicConfig(level= logging.INFO)\n",
    "wordnet_lemmatizer= WordNetLemmatizer()\n",
    "\n",
    "from tqdm import tqdm\n",
    "\n",
    "import gensim\n",
    "from gensim.models.ldamulticore import LdaMulticore\n",
    "from gensim.corpora import Dictionary\n",
    "from gensim.models import Phrases\n",
    "from collections import Counter\n",
    "from gensim.models import Word2Vec"
   ]
  },
  {
   "cell_type": "markdown",
   "metadata": {
    "deletable": true,
    "editable": true,
    "frozen": false
   },
   "source": [
    "# Load Data"
   ]
  },
  {
   "cell_type": "code",
   "execution_count": null,
   "metadata": {
    "ExecuteTime": {
     "end_time": "2023-11-05T14:33:18.260402Z",
     "start_time": "2023-11-05T14:33:17.951882Z"
    },
    "deletable": true,
    "editable": true,
    "execution": {
     "iopub.execute_input": "2025-05-10T11:23:23.398172Z",
     "iopub.status.busy": "2025-05-10T11:23:23.396809Z",
     "iopub.status.idle": "2025-05-10T11:23:23.604883Z",
     "shell.execute_reply": "2025-05-10T11:23:23.603656Z",
     "shell.execute_reply.started": "2025-05-10T11:23:23.398091Z"
    },
    "frozen": false
   },
   "outputs": [],
   "source": [
    "\"\"\" top_applications_data_file_path - stores the path to a file containing \n",
    "a json list of the most popular applications with package names, \n",
    "titles, descriptions and categories\"\"\"\n",
    "\n",
    "top_applications_data = []\n",
    "\n",
    "with open(top_applications_data_file_path) as inf:\n",
    "    for line in inf:\n",
    "        line = json.loads(line.strip())\n",
    "        top_applications_data.append(line)"
   ]
  },
  {
   "cell_type": "code",
   "execution_count": null,
   "metadata": {
    "ExecuteTime": {
     "end_time": "2023-11-05T14:33:19.195653Z",
     "start_time": "2023-11-05T14:33:19.189894Z"
    },
    "deletable": true,
    "editable": true,
    "frozen": false
   },
   "outputs": [],
   "source": [
    "game_categs = [\"action\", \"adventure\", \"arcade\", \"board\", \"card\", \"casino\", \"casual\",\n",
    "               \"educational\", \"music\", \"puzzle\", \"racing\", \"role playing\", \"simulation\",\n",
    "               \"game sports\", \"strategy\", \"trivia\", \"word\"]"
   ]
  },
  {
   "cell_type": "code",
   "execution_count": null,
   "metadata": {
    "ExecuteTime": {
     "end_time": "2023-11-05T14:33:19.739840Z",
     "start_time": "2023-11-05T14:33:19.730970Z"
    },
    "deletable": true,
    "editable": true,
    "frozen": false
   },
   "outputs": [],
   "source": [
    "def sentence_clean_up(description):\n",
    "    description = description.lower()\n",
    "    url_extract_pattern = \"https?:\\\\/\\\\/(?:www\\\\.)?[-a-zA-Z0-9@:%._\\\\+~#=]{1,256}\\\\.[a-zA-Z0-9()]{1,6}\\\\b(?:[-a-zA-Z0-9()@:%_\\\\+.~#?&\\\\/=]*)\"\n",
    "    description = re.sub(url_extract_pattern, \"\", description, flags=re.MULTILINE)\n",
    "    description = re.sub(r'[^\\w\\s]', ' ', description)\n",
    "    description = [word for word in word_tokenize(description) if word.isalpha()]\n",
    "    description = \" \".join(description)\n",
    "    return description"
   ]
  },
  {
   "cell_type": "code",
   "execution_count": null,
   "metadata": {
    "ExecuteTime": {
     "end_time": "2023-11-05T14:33:29.237009Z",
     "start_time": "2023-11-05T14:33:21.085719Z"
    },
    "deletable": true,
    "editable": true,
    "frozen": false
   },
   "outputs": [],
   "source": [
    "data_for_dataframe = []\n",
    "i = 0\n",
    "for top_app in top_applications_data:\n",
    "    category = top_app[\"i\"][0][\"ct\"]\n",
    "    original_pkn = top_app[\"p\"].split(\".\")\n",
    "    pkn = ' '.join(original_pkn)\n",
    "    descriptive_fields = top_app[\"i\"][0][\"ed\"] + \" \" + top_app[\"i\"][0][\"ean\"] + \" \" + pkn\n",
    "\n",
    "    if category.lower() in game_categs:\n",
    "        category = \"Game\"\n",
    "\n",
    "    data_for_dataframe.append({\n",
    "        \"category\": category,\n",
    "        \"description\": sentence_clean_up(descriptive_fields), \n",
    "        \"package_name\": top_app[\"p\"],\n",
    "    })"
   ]
  },
  {
   "cell_type": "code",
   "execution_count": null,
   "metadata": {
    "ExecuteTime": {
     "end_time": "2023-11-05T14:33:29.256512Z",
     "start_time": "2023-11-05T14:33:29.239499Z"
    },
    "deletable": true,
    "editable": true,
    "frozen": false
   },
   "outputs": [],
   "source": [
    "descrtiptions_df = pd.DataFrame(data_for_dataframe)"
   ]
  },
  {
   "cell_type": "code",
   "execution_count": null,
   "metadata": {
    "ExecuteTime": {
     "end_time": "2023-11-05T14:33:29.322938Z",
     "start_time": "2023-11-05T14:33:29.258358Z"
    },
    "deletable": true,
    "editable": true,
    "frozen": false
   },
   "outputs": [],
   "source": [
    "descrtiptions_df.head()"
   ]
  },
  {
   "cell_type": "markdown",
   "metadata": {
    "deletable": true,
    "editable": true,
    "frozen": false
   },
   "source": [
    "## Prepare descriprions for LDA"
   ]
  },
  {
   "cell_type": "code",
   "execution_count": null,
   "metadata": {
    "ExecuteTime": {
     "end_time": "2023-11-05T14:33:29.341067Z",
     "start_time": "2023-11-05T14:33:29.325025Z"
    },
    "deletable": true,
    "editable": true,
    "frozen": false
   },
   "outputs": [],
   "source": [
    "# these are to be excluded from the descriptions of the applications\n",
    "english_articles = [\"a\", \"an\", \"the\"]\n",
    "english_conjunctions = [\"for\", \"and\", \"nor\", \"but\", \"or\", \"yet\", \"so\"]\n",
    "english_pronouns = [\"i\", \"you\", \"he\", \"she\", \"it\", \"we\", \"they\", \"me\", \"him\", \"her\", \"us\", \"them\",\n",
    "                    \"what\", \"who\", \"me\", \"him\", \"her\", \"it\", \"us\", \"you\", \"them\", \"whom\", \"mine\", \n",
    "                    \"yours\", \"his\", \"hers\", \"ours\", \"theirs\", \"this\", \"that\", \"these\", \"those\",\n",
    "                    \"who\", \"whom\", \"which\", \"what\", \"whose\", \"whoever\", \"whatever\", \"whichever\",\n",
    "                    \"whomever\", \"who\", \"whom\", \"whose\", \"which\", \"that\", \"what\", \"whatever\", \n",
    "                    \"whoever\", \"whomever\", \"whichever\", \"myself\", \"yourself\", \"himself\", \"herself\",\n",
    "                    \"itself\", \"ourselves\", \"themselves\", \"myself\", \"yourself\", \"himself\", \"herself\",\n",
    "                    \"itself\", \"ourselves\", \"themselves\", \"each other\", \"one another\", \"anything\", \n",
    "                    \"everybody\", \"another\", \"each\", \"few\", \"many\", \"none\", \"some\", \"all\", \"any\", \"anybody\",\n",
    "                    \"anyone\", \"everyone\", \"everything\", \"no one\", \"nobody\", \"nothing\", \"none\", \"other\",\n",
    "                    \"others\", \"several\", \"somebody\", \"someone\", \"something\", \"most\", \"enough\", \"little\",\n",
    "                    \"more\", \"both\", \"either\", \"neither\", \"one\", \"much\", \"such\"]\n",
    "english_prepositions = [\"aboard\", \"about\", \"above\", \"across\", \"after\", \"against\", \"along\", \"amid\", \"among\",\n",
    "                        \"anti\", \"around\", \"as\", \"at\", \"before\", \"behind\", \"below\", \"beneath\", \"beside\", \n",
    "                        \"besides\", \"between\", \"beyond\", \"but\", \"by\", \"concerning\", \"considering\", \"despite\", \n",
    "                        \"down\", \"during\", \"except\", \"excepting\", \"excluding\", \"following\", \"for\", \"from\", \"in\",\n",
    "                        \"inside\", \"into\", \"like\", \"minus\", \"near\", \"of\", \"off\", \"on\", \"onto\", \"opposite\",\n",
    "                        \"outside\", \"over\", \"past\", \"per\", \"plus\", \"regarding\", \"round\", \"save\", \"since\",\n",
    "                        \"than\", \"through\", \"to\", \"toward\", \"towards\", \"under\", \"underneath\", \"unlike\", \"until\",\n",
    "                        \"up\", \"upon\", \"versus\", \"via\", \"with\", \"within\", \"without\"]\n",
    "english_auxiliary_verbs = [\"be\", \"am\", \"are\", \"is\", \"was\", \"were\", \"being\", \"can\", \"could\", \"do\" \"did\", \"does\",\n",
    "                           \"doing\", \"have\" \"had\", \"has\", \"having\", \"may\", \"might\", \"must\", \"shall\", \"should\", \n",
    "                           \"will\", \"would\"]\n",
    "english_modal_verbs = [\"can\", \"could\", \"may\", \"might\", \"shall\", \"should\", \"will\", \"would\", \"must\"]\n",
    "noise_words = [\"http\", \"https\", \"also\", \"online\", \"android\", \"app\", \"apps\", \"application\", \"applications\",\n",
    "                \"google\", \"offline\", \"policy\", \"always\", \"facebook\", \"current\", \"premium\", \"latest\", \"unlimited\",\n",
    "                \"term\", \"anywhere\", \"various\", \"exclusive\", \"code\", \"whether\", \"add\", \"instagram\", \"go\", \"apply\",\n",
    "                \"second\", \"whatsapp\", \"twitter\", \"youtube\", \"2022\", \"already\", \"christmas\", \"tiktok\", \"2021\", \"2020\",\n",
    "                \"le\", \"santa\", \"from\", \"free\", \"retweet\"]\n"
   ]
  },
  {
   "cell_type": "code",
   "execution_count": null,
   "metadata": {
    "ExecuteTime": {
     "end_time": "2023-11-05T14:33:29.445752Z",
     "start_time": "2023-11-05T14:33:29.342950Z"
    },
    "deletable": true,
    "editable": true,
    "frozen": false
   },
   "outputs": [],
   "source": [
    "stop_words = stopwords.words('english')\n",
    "stop_words.extend(english_articles)\n",
    "stop_words.extend(english_pronouns)\n",
    "stop_words.extend(english_prepositions)\n",
    "stop_words.extend(english_conjunctions)\n",
    "stop_words.extend(english_auxiliary_verbs)\n",
    "stop_words.extend(english_modal_verbs)\n",
    "stop_words.extend(noise_words)"
   ]
  },
  {
   "cell_type": "code",
   "execution_count": null,
   "metadata": {
    "ExecuteTime": {
     "end_time": "2023-11-05T14:33:29.482995Z",
     "start_time": "2023-11-05T14:33:29.449251Z"
    },
    "deletable": true,
    "editable": true,
    "frozen": false
   },
   "outputs": [],
   "source": [
    "stop_words = list(set(stop_words))"
   ]
  },
  {
   "cell_type": "code",
   "execution_count": null,
   "metadata": {
    "ExecuteTime": {
     "end_time": "2023-11-05T14:33:29.527182Z",
     "start_time": "2023-11-05T14:33:29.486470Z"
    },
    "deletable": true,
    "editable": true,
    "frozen": false
   },
   "outputs": [],
   "source": [
    "def get_pos_tag(tag):    \n",
    "    if tag.startswith('N') or tag.startswith('J'):\n",
    "        return wordnet.NOUN\n",
    "    elif tag.startswith('V'):\n",
    "        return wordnet.VERB\n",
    "    elif tag.startswith('R'):\n",
    "        return wordnet.ADV\n",
    "    else:\n",
    "        return wordnet.NOUN "
   ]
  },
  {
   "cell_type": "code",
   "execution_count": null,
   "metadata": {
    "ExecuteTime": {
     "end_time": "2023-11-05T14:33:29.575512Z",
     "start_time": "2023-11-05T14:33:29.532155Z"
    },
    "deletable": true,
    "editable": true,
    "frozen": false
   },
   "outputs": [],
   "source": [
    "def preprocess(text):\n",
    "    doc_tokens = nltk.word_tokenize(text)\n",
    "    word_tokens = [word for word in doc_tokens if len(word)>3]\n",
    "    pos_tags = nltk.pos_tag(word_tokens)\n",
    "    doc_words = [wordnet_lemmatizer.lemmatize(word, pos=get_pos_tag(tag)) for word, tag in pos_tags]\n",
    "    doc_words = [word for word in doc_words if word not in stop_words]\n",
    "\n",
    "    return doc_words"
   ]
  },
  {
   "cell_type": "code",
   "execution_count": null,
   "metadata": {
    "ExecuteTime": {
     "end_time": "2023-11-05T14:34:49.127727Z",
     "start_time": "2023-11-05T14:33:29.579112Z"
    },
    "deletable": true,
    "editable": true,
    "frozen": false,
    "scrolled": true
   },
   "outputs": [],
   "source": [
    "df_clean = descrtiptions_df['description'].apply(preprocess)"
   ]
  },
  {
   "cell_type": "code",
   "execution_count": null,
   "metadata": {
    "ExecuteTime": {
     "end_time": "2023-11-05T14:34:49.146934Z",
     "start_time": "2023-11-05T14:34:49.130137Z"
    },
    "deletable": true,
    "editable": true,
    "frozen": false
   },
   "outputs": [],
   "source": [
    "df_clean.to_frame().head()"
   ]
  },
  {
   "cell_type": "markdown",
   "metadata": {
    "deletable": true,
    "editable": true,
    "frozen": false
   },
   "source": [
    "### Keep all PoS / Keep Only Nouns & Adjectives"
   ]
  },
  {
   "cell_type": "code",
   "execution_count": null,
   "metadata": {
    "ExecuteTime": {
     "end_time": "2023-11-05T14:34:49.195417Z",
     "start_time": "2023-11-05T14:34:49.148438Z"
    },
    "deletable": true,
    "editable": true,
    "frozen": false
   },
   "outputs": [],
   "source": [
    "def get_specific_pos(series):\n",
    "    pos_tags= nltk.pos_tag(series)\n",
    "    all_adj_nouns= [word for (word, tag) in pos_tags] \n",
    "    return all_adj_nouns"
   ]
  },
  {
   "cell_type": "code",
   "execution_count": null,
   "metadata": {
    "ExecuteTime": {
     "end_time": "2023-11-05T14:35:43.033379Z",
     "start_time": "2023-11-05T14:34:49.197346Z"
    },
    "deletable": true,
    "editable": true,
    "frozen": false
   },
   "outputs": [],
   "source": [
    "pos_df = df_clean.apply(get_specific_pos)"
   ]
  },
  {
   "cell_type": "code",
   "execution_count": null,
   "metadata": {
    "ExecuteTime": {
     "end_time": "2023-11-05T14:35:43.092155Z",
     "start_time": "2023-11-05T14:35:43.035344Z"
    },
    "deletable": true,
    "editable": true,
    "frozen": false
   },
   "outputs": [],
   "source": [
    "pos_df.to_frame()"
   ]
  },
  {
   "cell_type": "markdown",
   "metadata": {
    "deletable": true,
    "editable": true,
    "frozen": false
   },
   "source": [
    "# Create Bigrams\n"
   ]
  },
  {
   "cell_type": "code",
   "execution_count": null,
   "metadata": {
    "ExecuteTime": {
     "end_time": "2023-11-05T14:35:50.381155Z",
     "start_time": "2023-11-05T14:35:43.093830Z"
    },
    "deletable": true,
    "editable": true,
    "frozen": false
   },
   "outputs": [],
   "source": [
    "docs = list(pos_df)\n",
    "phrases = gensim.models.Phrases(docs, min_count=10, threshold=20)\n",
    "bigram_model = gensim.models.phrases.Phraser(phrases)"
   ]
  },
  {
   "cell_type": "code",
   "execution_count": null,
   "metadata": {
    "ExecuteTime": {
     "end_time": "2023-11-05T14:35:50.384789Z",
     "start_time": "2023-11-05T14:35:50.382622Z"
    },
    "deletable": true,
    "editable": true,
    "frozen": false
   },
   "outputs": [],
   "source": [
    "def make_bigrams(texts):\n",
    "    return [bigram_model[doc] for doc in texts]"
   ]
  },
  {
   "cell_type": "code",
   "execution_count": null,
   "metadata": {
    "ExecuteTime": {
     "end_time": "2023-11-05T14:35:53.366092Z",
     "start_time": "2023-11-05T14:35:50.385953Z"
    },
    "deletable": true,
    "editable": true,
    "frozen": false
   },
   "outputs": [],
   "source": [
    "data_words_bigrams = make_bigrams(docs)"
   ]
  },
  {
   "cell_type": "code",
   "execution_count": null,
   "metadata": {
    "ExecuteTime": {
     "end_time": "2023-11-05T14:35:53.373265Z",
     "start_time": "2023-11-05T14:35:53.367799Z"
    },
    "deletable": true,
    "editable": true,
    "frozen": false,
    "scrolled": true
   },
   "outputs": [],
   "source": [
    "data_words_bigrams[0]"
   ]
  },
  {
   "cell_type": "code",
   "execution_count": null,
   "metadata": {
    "ExecuteTime": {
     "end_time": "2023-02-05T16:23:03.157198Z",
     "start_time": "2023-02-05T16:22:59.014868Z"
    },
    "deletable": true,
    "editable": true,
    "frozen": false
   },
   "outputs": [],
   "source": [
    "bigram_counter = Counter()\n",
    "for key in phrases.vocab.keys():\n",
    "    if key not in stop_words:\n",
    "        if len(str(key).split('_')) > 1:\n",
    "            bigram_counter[key] += phrases.vocab[key]\n",
    "\n",
    "for key, counts in bigram_counter.most_common(20):\n",
    "    print(key,\">>>>\", counts)"
   ]
  },
  {
   "cell_type": "markdown",
   "metadata": {
    "deletable": true,
    "editable": true,
    "frozen": false
   },
   "source": [
    "# Create a dictionary and corpus for input to our LDA model. Filter out the most common and uncommon words.\n"
   ]
  },
  {
   "cell_type": "code",
   "execution_count": null,
   "metadata": {
    "ExecuteTime": {
     "end_time": "2023-02-05T16:28:14.086654Z",
     "start_time": "2023-02-05T16:28:12.375010Z"
    },
    "deletable": true,
    "editable": true,
    "frozen": false
   },
   "outputs": [],
   "source": [
    "dictionary = Dictionary(data_words_bigrams)\n",
    "\n",
    "# Filter out words that occur less than 100 documents, or more than 50% of the documents.\n",
    "dictionary.filter_extremes(no_below=100, no_above=0.5)\n",
    "corpus = [dictionary.doc2bow(doc) for doc in data_words_bigrams]\n",
    "\n",
    "print('Number of unique tokens: %d' % len(dictionary))\n",
    "print('Number of documents: %d' % len(corpus))"
   ]
  },
  {
   "cell_type": "markdown",
   "metadata": {
    "deletable": true,
    "editable": true,
    "frozen": false
   },
   "source": [
    "## Load the Best Model from Disk / Train"
   ]
  },
  {
   "cell_type": "code",
   "execution_count": null,
   "metadata": {
    "ExecuteTime": {
     "end_time": "2023-02-05T16:28:14.092375Z",
     "start_time": "2023-02-05T16:28:14.089306Z"
    },
    "deletable": true,
    "editable": true,
    "frozen": false
   },
   "outputs": [],
   "source": [
    "from gensim.models.ldamulticore import LdaModel"
   ]
  },
  {
   "cell_type": "code",
   "execution_count": null,
   "metadata": {
    "ExecuteTime": {
     "end_time": "2023-02-05T16:28:14.134570Z",
     "start_time": "2023-02-05T16:28:14.094524Z"
    },
    "deletable": true,
    "editable": true,
    "frozen": false
   },
   "outputs": [],
   "source": [
    "dir_path = r\"best_ldamodel\"\n",
    "model_name = \"/best_ldamodel.gensim\"\n",
    "full_path = dir_path + model_name"
   ]
  },
  {
   "cell_type": "code",
   "execution_count": null,
   "metadata": {
    "ExecuteTime": {
     "end_time": "2023-02-05T16:28:14.175044Z",
     "start_time": "2023-02-05T16:28:14.136929Z"
    },
    "deletable": true,
    "editable": true,
    "frozen": false
   },
   "outputs": [],
   "source": [
    "best_ldamodel = LdaModel.load(full_path)"
   ]
  },
  {
   "cell_type": "code",
   "execution_count": null,
   "metadata": {
    "ExecuteTime": {
     "end_time": "2023-02-05T17:40:41.489264Z",
     "start_time": "2023-02-05T17:40:41.484194Z"
    },
    "deletable": true,
    "editable": true,
    "frozen": false
   },
   "outputs": [],
   "source": [
    "# workers = 250\n",
    "num_topics = 33\n",
    "# alpha = 50/33\n",
    "# beta = 0.1\n",
    "# # 200/len(dictionary)\n",
    "# passes = 150"
   ]
  },
  {
   "cell_type": "code",
   "execution_count": null,
   "metadata": {
    "ExecuteTime": {
     "end_time": "2023-02-05T18:23:46.677756Z",
     "start_time": "2023-02-05T18:08:46.917847Z"
    },
    "deletable": true,
    "editable": true,
    "frozen": false,
    "scrolled": true
   },
   "outputs": [],
   "source": [
    "# np.random.seed(1) # use this seed to obtain the same results\n",
    "\n",
    "# best_ldamodel = LdaMulticore(\n",
    "#                                 corpus, \n",
    "#                                 id2word=dictionary, \n",
    "#                                 num_topics=num_topics, \n",
    "#                                 chunksize=3000, \n",
    "#                                 batch=True,\n",
    "#                                 iterations=350,\n",
    "#                                 passes=passes,\n",
    "#                                 workers=workers,\n",
    "#                                 alpha=alpha,\n",
    "#                                 eta=beta\n",
    "#                             ) "
   ]
  },
  {
   "cell_type": "code",
   "execution_count": null,
   "metadata": {
    "ExecuteTime": {
     "end_time": "2023-02-05T18:23:52.711204Z",
     "start_time": "2023-02-05T18:23:46.681577Z"
    },
    "deletable": true,
    "editable": true,
    "frozen": false
   },
   "outputs": [],
   "source": [
    "best_ldamodel.log_perplexity(corpus)"
   ]
  },
  {
   "cell_type": "code",
   "execution_count": null,
   "metadata": {
    "ExecuteTime": {
     "end_time": "2023-02-05T18:24:05.196034Z",
     "start_time": "2023-02-05T18:23:52.714381Z"
    },
    "deletable": true,
    "editable": true,
    "frozen": false,
    "scrolled": true
   },
   "outputs": [],
   "source": [
    "from gensim.models import CoherenceModel\n",
    "\n",
    "coherence_model_lda = CoherenceModel(model=best_ldamodel, texts=data_words_bigrams,\n",
    "                                     dictionary=dictionary, coherence='c_v')\n",
    "coherence_lda = coherence_model_lda.get_coherence()\n",
    "print('Coherence Score: ', coherence_lda)"
   ]
  },
  {
   "cell_type": "code",
   "execution_count": null,
   "metadata": {
    "ExecuteTime": {
     "end_time": "2023-02-05T18:24:05.209570Z",
     "start_time": "2023-02-05T18:24:05.199240Z"
    },
    "deletable": true,
    "editable": true,
    "frozen": false,
    "scrolled": true
   },
   "outputs": [],
   "source": [
    "best_ldamodel.show_topics(num_words=25, formatted=True, num_topics=num_topics)"
   ]
  },
  {
   "cell_type": "code",
   "execution_count": null,
   "metadata": {
    "ExecuteTime": {
     "end_time": "2023-02-05T18:24:05.281520Z",
     "start_time": "2023-02-05T18:24:05.211362Z"
    },
    "deletable": true,
    "editable": true,
    "frozen": false
   },
   "outputs": [],
   "source": [
    "lda_corpus = best_ldamodel[corpus]"
   ]
  },
  {
   "cell_type": "code",
   "execution_count": null,
   "metadata": {
    "ExecuteTime": {
     "end_time": "2023-02-05T18:24:09.540332Z",
     "start_time": "2023-02-05T18:24:05.284717Z"
    },
    "deletable": true,
    "editable": true,
    "frozen": false
   },
   "outputs": [],
   "source": [
    "all_topics = best_ldamodel.get_document_topics(corpus)\n",
    "num_docs = len(all_topics)\n",
    "\n",
    "all_topics_csr= gensim.matutils.corpus2csc(all_topics)\n",
    "all_topics_numpy= all_topics_csr.T.toarray()\n",
    "\n",
    "major_topic= [np.argmax(arr) for arr in all_topics_numpy]\n",
    "descrtiptions_df['major_lda_topic'] = major_topic"
   ]
  },
  {
   "cell_type": "code",
   "execution_count": null,
   "metadata": {
    "ExecuteTime": {
     "end_time": "2023-02-05T18:24:10.113469Z",
     "start_time": "2023-02-05T18:24:09.543010Z"
    },
    "deletable": true,
    "editable": true,
    "frozen": false
   },
   "outputs": [],
   "source": [
    "sns.set(rc= {'figure.figsize': (10,5)})\n",
    "sns.set_style('darkgrid')\n",
    "\n",
    "descrtiptions_df.major_lda_topic.value_counts().plot(kind='bar')"
   ]
  },
  {
   "cell_type": "code",
   "execution_count": null,
   "metadata": {
    "ExecuteTime": {
     "end_time": "2023-02-05T18:24:10.130203Z",
     "start_time": "2023-02-05T18:24:10.116446Z"
    },
    "deletable": true,
    "editable": true,
    "frozen": false
   },
   "outputs": [],
   "source": [
    "descrtiptions_df.head()"
   ]
  },
  {
   "attachments": {},
   "cell_type": "markdown",
   "metadata": {
    "deletable": true,
    "editable": true,
    "frozen": false
   },
   "source": [
    "## Compute topic proportion for each class \n"
   ]
  },
  {
   "cell_type": "code",
   "execution_count": null,
   "metadata": {
    "ExecuteTime": {
     "end_time": "2023-02-05T18:24:10.221215Z",
     "start_time": "2023-02-05T18:24:10.132557Z"
    },
    "deletable": true,
    "editable": true,
    "frozen": false
   },
   "outputs": [],
   "source": [
    "descrtiptions_df[\"clean_description\"] = docs"
   ]
  },
  {
   "cell_type": "code",
   "execution_count": null,
   "metadata": {
    "ExecuteTime": {
     "end_time": "2023-02-05T18:24:10.279285Z",
     "start_time": "2023-02-05T18:24:10.223379Z"
    },
    "deletable": true,
    "editable": true,
    "frozen": false
   },
   "outputs": [],
   "source": [
    "descrtiptions_df.head()"
   ]
  },
  {
   "cell_type": "code",
   "execution_count": null,
   "metadata": {
    "ExecuteTime": {
     "end_time": "2023-02-05T18:24:16.802007Z",
     "start_time": "2023-02-05T18:24:10.281065Z"
    },
    "deletable": true,
    "editable": true,
    "frozen": false
   },
   "outputs": [],
   "source": [
    "topics_distributions_per_category = {}\n",
    "for index, row in descrtiptions_df.iterrows():\n",
    "    category = row[\"category\"]\n",
    "    descr = best_ldamodel.id2word.doc2bow(row[\"clean_description\"])\n",
    "    doc_topics = best_ldamodel.get_document_topics(descr, minimum_probability=0)\n",
    "\n",
    "    if category.lower() in game_categs:\n",
    "        category = \"Game\"\n",
    "        \n",
    "    if category not in topics_distributions_per_category:\n",
    "        topics_distributions_per_category[category] = {\"nr_of_docs\": 1,\n",
    "                                                       \"topics_distr\": {\n",
    "                                                       }}\n",
    "        for i in range(0, 33):\n",
    "            topics_distributions_per_category[category][\"topics_distr\"][doc_topics[i][0]] = [doc_topics[i][1]]\n",
    "    else: \n",
    "        topics_distributions_per_category[category][\"nr_of_docs\"] += 1\n",
    "        for i in range(0, 33):\n",
    "            topics_distributions_per_category[category][\"topics_distr\"][doc_topics[i][0]].append(doc_topics[i][1])"
   ]
  },
  {
   "cell_type": "code",
   "execution_count": null,
   "metadata": {
    "ExecuteTime": {
     "end_time": "2023-02-05T18:24:18.168372Z",
     "start_time": "2023-02-05T18:24:16.804858Z"
    },
    "deletable": true,
    "editable": true,
    "frozen": false
   },
   "outputs": [],
   "source": [
    "import statistics\n",
    "\n",
    "harmonic_mean_per_category_per_topic = {}\n",
    "for category, info in topics_distributions_per_category.items():\n",
    "    harmonic_mean_per_category_per_topic[category] = {}\n",
    "    n = info[\"nr_of_docs\"]\n",
    "    for i in range(0, 33):\n",
    "            harmonic_mean_per_category_per_topic[category][i] = statistics.harmonic_mean(topics_distributions_per_category[category][\"topics_distr\"][i])"
   ]
  },
  {
   "attachments": {},
   "cell_type": "markdown",
   "metadata": {
    "deletable": true,
    "editable": true,
    "frozen": false
   },
   "source": [
    "## Compute clusters quality\n",
    "### Categories Definitions based Approach"
   ]
  },
  {
   "cell_type": "code",
   "execution_count": null,
   "metadata": {
    "ExecuteTime": {
     "end_time": "2023-02-05T18:24:18.175706Z",
     "start_time": "2023-02-05T18:24:18.170589Z"
    },
    "deletable": true,
    "editable": true,
    "frozen": false
   },
   "outputs": [],
   "source": [
    "categories_definitions = {\n",
    "    \"Art & Design\": \"Sketchbooks, painter tools, art and design tools, coloring books\",\n",
    "    \"Auto & Vehicles\": \"Auto shopping, auto insurance, auto price comparison, road safety, auto reviews and news\",\n",
    "    \"Beauty\": \"Makeup tutorials, makeover tools, hair styling, beauty shopping, makeup simulators\",\n",
    "    \"Books & Reference\": \"Book readers, reference books, textbooks, dictionaries, thesaurus, wikis\",\n",
    "    \"Business\": \"Document editor/reader, package tracking, remote desktop, email management, job search\",\n",
    "    \"Comics\": \"Comic players, comic titles\",\n",
    "    \"Communication\": \"Messaging, chat/IM, dialers, address books, browsers, call management\",\n",
    "    \"Dating\": \"Matchmaking, courtship, relationship building, meeting new people, finding love\",\n",
    "    \"Education\": \"Exam preparations, study-aids, vocabulary, educational games, language learning\",\n",
    "    \"Entertainment\": \"Streaming video, movies, TV, interactive entertainment\",\n",
    "    \"Events\": \"Concert tickets, sporting event tickets, ticket resales, movie tickets\",\n",
    "    \"Finance\": \"Banking, payment, ATM finders, financial news, insurance, taxes, portfolio/trading, tip calculators\",\n",
    "    \"Food & Drink\": \"Recipes, restaurants, food guides, wine tasting and discovery, beverage recipes\",\n",
    "    \"Health & Fitness\": \"Personal fitness, workout tracking, diet and nutritional tips, health and safety\",\n",
    "    \"House & Home\": \"House and apartment search, home improvement, interior decoration, mortgages, real estate\",\n",
    "    \"Libraries & Demo\": \"Software libraries, technical demos\",\n",
    "    \"Lifestyle\": \"Style guides, wedding and party planning, how-to guides\",\n",
    "    \"Maps & Navigation\": \"Navigation tools, GPS, mapping, transit tools, public transportation\",\n",
    "    \"Medical\": \"Drug and clinical references, calculators, handbooks for healthcare providers, medical journals and news\",\n",
    "    \"Music & Audio\": \"Music services, radios, music players\",\n",
    "    \"News & Magazines\": \"Newspapers, news aggregators, magazines, blogging\",\n",
    "    \"Parenting\": \"Pregnancy, infant care and monitoring, childcare\",\n",
    "    \"Personalization\": \"Wallpapers, live wallpapers, home screen, lock screen, ringtones\",\n",
    "    \"Photography\": \"Cameras, photo editing tools, photo management, and sharing\",\n",
    "    \"Productivity\": \"Notepad, to-do list, keyboard, printing, calendar, backup, calculator, conversion\",\n",
    "    \"Shopping\": \"Online shopping, auctions, coupons, price comparison, grocery lists, product reviews\",\n",
    "    \"Social\": \"Social networking, check-in\",\n",
    "    \"Sports\": \"Sports news and commentary, score tracking, fantasy team management, game coverage\",\n",
    "    \"Tools\": \"Tools for Android devices\",\n",
    "    \"Travel & Local\": \"Trip booking tools, ride-sharing, taxis, city guides, local business information, trip management tools, tour booking\",\n",
    "    \"Video Players & Editors\": \"Video players, video editors, media storage\",\n",
    "    \"Weather\": \"Weather reports\",\n",
    "    \"Game\": \"Action, adventure, arcade, board, card, casino, casual, educational, music, puzzle, racing, role playing, simulation, sports, strategy, trivia, word\"\n",
    "}"
   ]
  },
  {
   "cell_type": "code",
   "execution_count": null,
   "metadata": {
    "ExecuteTime": {
     "end_time": "2023-02-05T18:24:18.218151Z",
     "start_time": "2023-02-05T18:24:18.177565Z"
    },
    "deletable": true,
    "editable": true,
    "frozen": false
   },
   "outputs": [],
   "source": [
    "categories_data_for_dataframe = []\n",
    "\n",
    "for category, categ_def in categories_definitions.items():\n",
    "    categories_data_for_dataframe.append({\n",
    "        \"category\": category,\n",
    "        \"description\": sentence_clean_up(categ_def),\n",
    "    })\n",
    "\n",
    "categ_defs_df = pd.DataFrame(categories_data_for_dataframe)  \n",
    "categ_defs_df.head()"
   ]
  },
  {
   "cell_type": "code",
   "execution_count": null,
   "metadata": {
    "ExecuteTime": {
     "end_time": "2023-02-05T18:24:18.272355Z",
     "start_time": "2023-02-05T18:24:18.220031Z"
    },
    "deletable": true,
    "editable": true,
    "frozen": false
   },
   "outputs": [],
   "source": [
    "categs_df_clean = categ_defs_df['description'].apply(preprocess)"
   ]
  },
  {
   "cell_type": "code",
   "execution_count": null,
   "metadata": {
    "ExecuteTime": {
     "end_time": "2023-02-05T18:24:18.281491Z",
     "start_time": "2023-02-05T18:24:18.274218Z"
    },
    "deletable": true,
    "editable": true,
    "frozen": false
   },
   "outputs": [],
   "source": [
    "categs_df_clean.to_frame().head()"
   ]
  },
  {
   "cell_type": "code",
   "execution_count": null,
   "metadata": {
    "ExecuteTime": {
     "end_time": "2023-02-05T18:24:18.333766Z",
     "start_time": "2023-02-05T18:24:18.283371Z"
    },
    "deletable": true,
    "editable": true,
    "frozen": false
   },
   "outputs": [],
   "source": [
    "categs_docs = list(categs_df_clean)\n",
    "categs_phrases = gensim.models.Phrases(categs_docs, min_count=10, threshold=20)"
   ]
  },
  {
   "cell_type": "code",
   "execution_count": null,
   "metadata": {
    "ExecuteTime": {
     "end_time": "2023-02-05T18:24:18.353578Z",
     "start_time": "2023-02-05T18:24:18.335954Z"
    },
    "deletable": true,
    "editable": true,
    "frozen": false
   },
   "outputs": [],
   "source": [
    "categs_corpus = [dictionary.doc2bow(doc) for doc in categs_docs]\n",
    "\n",
    "print('Number of unique tokens: %d' % len(dictionary))\n",
    "print('Number of documents: %d' % len(categs_corpus))"
   ]
  },
  {
   "cell_type": "code",
   "execution_count": null,
   "metadata": {
    "ExecuteTime": {
     "end_time": "2023-02-05T18:24:18.410200Z",
     "start_time": "2023-02-05T18:24:18.356279Z"
    },
    "deletable": true,
    "editable": true,
    "frozen": false
   },
   "outputs": [],
   "source": [
    "best_ldamodel.log_perplexity(categs_corpus)"
   ]
  },
  {
   "cell_type": "code",
   "execution_count": null,
   "metadata": {
    "ExecuteTime": {
     "end_time": "2023-02-05T18:24:18.414605Z",
     "start_time": "2023-02-05T18:24:18.412124Z"
    },
    "deletable": true,
    "editable": true,
    "frozen": false
   },
   "outputs": [],
   "source": [
    "categs_lda_corpus = best_ldamodel[categs_corpus]"
   ]
  },
  {
   "cell_type": "code",
   "execution_count": null,
   "metadata": {
    "ExecuteTime": {
     "end_time": "2023-02-05T18:24:18.447974Z",
     "start_time": "2023-02-05T18:24:18.416803Z"
    },
    "deletable": true,
    "editable": true,
    "frozen": false
   },
   "outputs": [],
   "source": [
    "categs_all_topics = best_ldamodel.get_document_topics(categs_corpus)\n",
    "categs_num_docs = len(categs_all_topics)"
   ]
  },
  {
   "cell_type": "code",
   "execution_count": null,
   "metadata": {
    "ExecuteTime": {
     "end_time": "2023-02-05T18:24:18.509963Z",
     "start_time": "2023-02-05T18:24:18.450494Z"
    },
    "deletable": true,
    "editable": true,
    "frozen": false
   },
   "outputs": [],
   "source": [
    "categs_all_topics_csr= gensim.matutils.corpus2csc(categs_all_topics)\n",
    "categs_all_topics_numpy= categs_all_topics_csr.T.toarray()"
   ]
  },
  {
   "cell_type": "code",
   "execution_count": null,
   "metadata": {
    "ExecuteTime": {
     "end_time": "2023-02-05T18:24:18.519675Z",
     "start_time": "2023-02-05T18:24:18.515590Z"
    },
    "deletable": true,
    "editable": true,
    "frozen": false
   },
   "outputs": [],
   "source": [
    "categs_major_topic= [np.argmax(arr) for arr in categs_all_topics_numpy]\n",
    "categ_defs_df['major_lda_topic'] = categs_major_topic"
   ]
  },
  {
   "cell_type": "code",
   "execution_count": null,
   "metadata": {
    "ExecuteTime": {
     "end_time": "2023-02-05T18:24:18.557659Z",
     "start_time": "2023-02-05T18:24:18.522331Z"
    },
    "deletable": true,
    "editable": true,
    "frozen": false,
    "scrolled": true
   },
   "outputs": [],
   "source": [
    "second_categs_major_topic = []\n",
    "for category_no, arr in enumerate(categs_all_topics_numpy):\n",
    "    second = np.sort(arr)[-2] \n",
    "    i = np.where(arr == second)\n",
    "    print(category_no, second, i)"
   ]
  },
  {
   "cell_type": "code",
   "execution_count": null,
   "metadata": {
    "ExecuteTime": {
     "end_time": "2023-02-05T18:24:19.084961Z",
     "start_time": "2023-02-05T18:24:18.579550Z"
    },
    "deletable": true,
    "editable": true,
    "frozen": false
   },
   "outputs": [],
   "source": [
    "sns.set(rc= {'figure.figsize': (10,5)})\n",
    "sns.set_style('darkgrid')\n",
    "\n",
    "ax = categ_defs_df.major_lda_topic.value_counts().plot(kind='bar', title='S1.1: Distribution of Categories Against the Topics') # plot the distribution of categories in each topic\n",
    "ax.set_xlabel(\"Topic ID Number\")\n",
    "ax.set_ylabel(\"Number of Categories\")"
   ]
  },
  {
   "cell_type": "code",
   "execution_count": null,
   "metadata": {
    "ExecuteTime": {
     "end_time": "2023-02-12T16:21:33.106667Z",
     "start_time": "2023-02-12T16:21:33.101882Z"
    },
    "deletable": true,
    "editable": true,
    "frozen": false
   },
   "outputs": [],
   "source": [
    "topics_ids = set(list(range(0, 33)))\n",
    "missing_ids = topics_ids - set(categs_major_topic)"
   ]
  },
  {
   "cell_type": "code",
   "execution_count": null,
   "metadata": {
    "ExecuteTime": {
     "end_time": "2023-02-12T16:21:33.301851Z",
     "start_time": "2023-02-12T16:21:33.295840Z"
    },
    "deletable": true,
    "editable": true,
    "frozen": false
   },
   "outputs": [],
   "source": [
    "missing_ids"
   ]
  },
  {
   "cell_type": "code",
   "execution_count": null,
   "metadata": {
    "ExecuteTime": {
     "end_time": "2023-02-12T16:21:33.505380Z",
     "start_time": "2023-02-12T16:21:33.499801Z"
    },
    "deletable": true,
    "editable": true,
    "frozen": false
   },
   "outputs": [],
   "source": [
    "len(missing_ids)"
   ]
  },
  {
   "cell_type": "code",
   "execution_count": null,
   "metadata": {
    "ExecuteTime": {
     "end_time": "2023-02-12T16:21:37.885210Z",
     "start_time": "2023-02-12T16:21:37.869209Z"
    },
    "deletable": true,
    "editable": true,
    "frozen": false
   },
   "outputs": [],
   "source": [
    "topic_to_categ = {}\n",
    "for index, row in categ_defs_df.iterrows():\n",
    "    category = row['category']\n",
    "    topic = row['major_lda_topic']\n",
    "    if topic not in topic_to_categ:\n",
    "        topic_to_categ[topic] = [category]\n",
    "    else: \n",
    "        topic_to_categ[topic].append(category)"
   ]
  },
  {
   "cell_type": "code",
   "execution_count": null,
   "metadata": {
    "ExecuteTime": {
     "end_time": "2023-02-12T16:21:38.221245Z",
     "start_time": "2023-02-12T16:21:38.212006Z"
    },
    "deletable": true,
    "editable": true,
    "frozen": false
   },
   "outputs": [],
   "source": [
    "keys = list(topic_to_categ.keys())\n",
    "keys.sort()\n",
    "topic_to_categ = {i: topic_to_categ[i] for i in keys}\n",
    "topic_to_categ"
   ]
  },
  {
   "cell_type": "code",
   "execution_count": null,
   "metadata": {
    "ExecuteTime": {
     "end_time": "2023-02-12T16:23:15.382407Z",
     "start_time": "2023-02-12T16:23:15.375194Z"
    },
    "deletable": true,
    "editable": true,
    "frozen": false
   },
   "outputs": [],
   "source": [
    "nr = 0\n",
    "for t, categs in topic_to_categ.items():\n",
    "    if len(categs) == 1:\n",
    "        nr+=1\n",
    "nr "
   ]
  },
  {
   "cell_type": "code",
   "execution_count": null,
   "metadata": {
    "ExecuteTime": {
     "end_time": "2023-02-12T16:34:42.813933Z",
     "start_time": "2023-02-12T16:34:42.807193Z"
    },
    "deletable": true,
    "editable": true,
    "frozen": false
   },
   "outputs": [],
   "source": [
    "length_count = {}\n",
    "for t, categs in topic_to_categ.items():\n",
    "    if len(categs) not in length_count:\n",
    "        length_count[len(categs)] = 1\n",
    "    else:\n",
    "        length_count[len(categs)] += 1"
   ]
  },
  {
   "cell_type": "code",
   "execution_count": null,
   "metadata": {
    "ExecuteTime": {
     "end_time": "2023-02-12T16:34:46.688914Z",
     "start_time": "2023-02-12T16:34:46.683028Z"
    },
    "deletable": true,
    "editable": true,
    "frozen": false
   },
   "outputs": [],
   "source": [
    "length_count"
   ]
  },
  {
   "cell_type": "markdown",
   "metadata": {
    "deletable": true,
    "editable": true,
    "frozen": false
   },
   "source": [
    "## Evaluate Classification Abilities of LDA"
   ]
  },
  {
   "cell_type": "markdown",
   "metadata": {
    "deletable": true,
    "editable": true,
    "frozen": false
   },
   "source": [
    "### Label topics without a category by using Cosine Similarity"
   ]
  },
  {
   "cell_type": "code",
   "execution_count": null,
   "metadata": {
    "ExecuteTime": {
     "end_time": "2023-02-14T01:40:21.013282Z",
     "start_time": "2023-02-14T01:40:20.979861Z"
    },
    "deletable": true,
    "editable": true,
    "frozen": false
   },
   "outputs": [],
   "source": [
    "topic_to_categ = {}\n",
    "for index, row in categ_defs_df.iterrows():\n",
    "    category = row['category']\n",
    "    topic = row['major_lda_topic']\n",
    "    if topic not in topic_to_categ:\n",
    "        topic_to_categ[topic] = [category]\n",
    "    else: \n",
    "        topic_to_categ[topic].append(category)"
   ]
  },
  {
   "cell_type": "code",
   "execution_count": null,
   "metadata": {
    "ExecuteTime": {
     "end_time": "2023-02-14T01:40:21.040468Z",
     "start_time": "2023-02-14T01:40:21.015829Z"
    },
    "deletable": true,
    "editable": true,
    "frozen": false
   },
   "outputs": [],
   "source": [
    "keys = list(topic_to_categ.keys())\n",
    "keys.sort()\n",
    "topic_to_categ = {i: topic_to_categ[i] for i in keys}\n",
    "topic_to_categ"
   ]
  },
  {
   "cell_type": "code",
   "execution_count": null,
   "metadata": {
    "ExecuteTime": {
     "end_time": "2023-02-14T01:40:21.146238Z",
     "start_time": "2023-02-14T01:40:21.043033Z"
    },
    "deletable": true,
    "editable": true,
    "frozen": false
   },
   "outputs": [],
   "source": [
    "cosine_sim_preds = dict()\n",
    "for compute_similarity_for in missing_ids:\n",
    "    to_get = best_ldamodel.get_topic_terms(compute_similarity_for, topn=25)\n",
    "    max_sim = -1\n",
    "    max_sim_topic = -1\n",
    "    for i in range(num_topics):\n",
    "        if i != compute_similarity_for and i not in missing_ids:\n",
    "            compared_with = best_ldamodel.get_topic_terms(i, topn=25)\n",
    "            similarity = gensim.matutils.cossim(to_get, compared_with)\n",
    "            if similarity > max_sim:\n",
    "                max_sim = similarity\n",
    "                max_sim_topic = i\n",
    "    cosine_sim_preds[compute_similarity_for] = {\"max_sim\":max_sim,\n",
    "                                                \"topic\":max_sim_topic}"
   ]
  },
  {
   "cell_type": "code",
   "execution_count": null,
   "metadata": {
    "ExecuteTime": {
     "end_time": "2023-02-14T01:40:21.152036Z",
     "start_time": "2023-02-14T01:40:21.148254Z"
    },
    "deletable": true,
    "editable": true,
    "frozen": false
   },
   "outputs": [],
   "source": [
    "cosine_sim_preds"
   ]
  },
  {
   "cell_type": "code",
   "execution_count": null,
   "metadata": {
    "ExecuteTime": {
     "end_time": "2023-02-14T01:40:21.201126Z",
     "start_time": "2023-02-14T01:40:21.181391Z"
    },
    "deletable": true,
    "editable": true,
    "frozen": false
   },
   "outputs": [],
   "source": [
    "for topic_id in missing_ids:\n",
    "    topic_to_categ[topic_id] = topic_to_categ[cosine_sim_preds[topic_id][\"topic\"]]"
   ]
  },
  {
   "cell_type": "code",
   "execution_count": null,
   "metadata": {
    "ExecuteTime": {
     "end_time": "2023-02-14T01:40:21.247539Z",
     "start_time": "2023-02-14T01:40:21.203993Z"
    },
    "deletable": true,
    "editable": true,
    "frozen": false
   },
   "outputs": [],
   "source": [
    "keys = list(topic_to_categ.keys())\n",
    "keys.sort()\n",
    "topic_to_categ = {i: topic_to_categ[i] for i in keys}\n",
    "topic_to_categ"
   ]
  },
  {
   "cell_type": "code",
   "execution_count": null,
   "metadata": {
    "ExecuteTime": {
     "end_time": "2023-02-14T01:40:21.286244Z",
     "start_time": "2023-02-14T01:40:21.250570Z"
    },
    "deletable": true,
    "editable": true,
    "frozen": false
   },
   "outputs": [],
   "source": [
    "descrtiptions_df.head()"
   ]
  },
  {
   "cell_type": "code",
   "execution_count": null,
   "metadata": {
    "ExecuteTime": {
     "end_time": "2023-02-14T01:40:22.126098Z",
     "start_time": "2023-02-14T01:40:21.288126Z"
    },
    "deletable": true,
    "editable": true,
    "frozen": false
   },
   "outputs": [],
   "source": [
    "package_names_topics_and_category = {}\n",
    "for index, row in descrtiptions_df.iterrows():\n",
    "    topic = row[\"major_lda_topic\"]\n",
    "    category = row['category']\n",
    "    package_name = row[\"package_name\"]\n",
    "    if package_name not in package_names_topics_and_category:\n",
    "        package_names_topics_and_category[package_name] = {\"c\": category,\n",
    "                                                           \"t\": topic_to_categ[topic]}"
   ]
  },
  {
   "cell_type": "code",
   "execution_count": null,
   "metadata": {
    "ExecuteTime": {
     "end_time": "2023-02-14T01:40:22.133988Z",
     "start_time": "2023-02-14T01:40:22.128525Z"
    },
    "deletable": true,
    "editable": true,
    "frozen": false
   },
   "outputs": [],
   "source": [
    "topic_to_categ"
   ]
  },
  {
   "cell_type": "code",
   "execution_count": null,
   "metadata": {
    "ExecuteTime": {
     "end_time": "2023-02-14T01:40:22.160603Z",
     "start_time": "2023-02-14T01:40:22.136137Z"
    },
    "deletable": true,
    "editable": true,
    "frozen": false
   },
   "outputs": [],
   "source": [
    "sorted_categs = sorted(list(set(categories_definitions.keys())))"
   ]
  },
  {
   "cell_type": "code",
   "execution_count": null,
   "metadata": {
    "ExecuteTime": {
     "end_time": "2023-02-14T01:40:22.229958Z",
     "start_time": "2023-02-14T01:40:22.163007Z"
    },
    "deletable": true,
    "editable": true,
    "frozen": false
   },
   "outputs": [],
   "source": [
    "numeric_labels_for_categories = {}\n",
    "i = 0\n",
    "for category in sorted_categs:\n",
    "    numeric_labels_for_categories[category] = i\n",
    "    i+=1"
   ]
  },
  {
   "cell_type": "code",
   "execution_count": null,
   "metadata": {
    "ExecuteTime": {
     "end_time": "2023-02-14T01:40:22.285041Z",
     "start_time": "2023-02-14T01:40:22.233236Z"
    },
    "deletable": true,
    "editable": true,
    "frozen": false,
    "scrolled": true
   },
   "outputs": [],
   "source": [
    "numeric_labels_for_categories"
   ]
  },
  {
   "cell_type": "code",
   "execution_count": null,
   "metadata": {
    "ExecuteTime": {
     "end_time": "2023-02-14T01:40:22.341905Z",
     "start_time": "2023-02-14T01:40:22.288271Z"
    },
    "deletable": true,
    "editable": true,
    "frozen": false
   },
   "outputs": [],
   "source": [
    "initial = []\n",
    "predicted_topic = []\n",
    "\n",
    "for pkn, info in package_names_topics_and_category.items():\n",
    "    \n",
    "    decided_category_label = -1\n",
    "    predicted_topic_label = -1\n",
    "\n",
    "    if info[\"c\"].lower() in game_categs:\n",
    "        decided_category_label = numeric_labels_for_categories[\"Game\"]\n",
    "    else:\n",
    "        decided_category_label = numeric_labels_for_categories[info[\"c\"]]\n",
    "        \n",
    "    if info[\"c\"] in info[\"t\"]:\n",
    "        predicted_topic_label = numeric_labels_for_categories[info[\"c\"]] \n",
    "    else:\n",
    "        predicted_topic_label = numeric_labels_for_categories[info[\"t\"][0]] \n",
    "\n",
    " \n",
    "    initial.append(decided_category_label)\n",
    "    predicted_topic.append(predicted_topic_label)"
   ]
  },
  {
   "cell_type": "code",
   "execution_count": null,
   "metadata": {
    "ExecuteTime": {
     "end_time": "2023-02-14T01:40:22.364288Z",
     "start_time": "2023-02-14T01:40:22.344297Z"
    },
    "deletable": true,
    "editable": true,
    "frozen": false
   },
   "outputs": [],
   "source": [
    "from sklearn import metrics"
   ]
  },
  {
   "cell_type": "code",
   "execution_count": null,
   "metadata": {
    "ExecuteTime": {
     "end_time": "2023-02-14T01:40:22.429352Z",
     "start_time": "2023-02-14T01:40:22.366799Z"
    },
    "deletable": true,
    "editable": true,
    "frozen": false
   },
   "outputs": [],
   "source": [
    "cossim_accuracy = metrics.accuracy_score(initial, predicted_topic)\n",
    "cossim_precision = metrics.precision_score(initial, predicted_topic, average='weighted')\n",
    "cossim_recall = metrics.recall_score(initial, predicted_topic, average='weighted')\n",
    "cossim_f1_score = metrics.f1_score(initial, predicted_topic, average='weighted')\n",
    "cossim_metrics_for_each_class = metrics.precision_recall_fscore_support(initial, predicted_topic, average=\"weighted\")"
   ]
  },
  {
   "cell_type": "code",
   "execution_count": null,
   "metadata": {
    "ExecuteTime": {
     "end_time": "2023-02-14T01:40:22.436988Z",
     "start_time": "2023-02-14T01:40:22.431438Z"
    },
    "deletable": true,
    "editable": true,
    "frozen": false
   },
   "outputs": [],
   "source": [
    "cossim_accuracy"
   ]
  },
  {
   "cell_type": "code",
   "execution_count": null,
   "metadata": {
    "ExecuteTime": {
     "end_time": "2023-02-14T01:40:22.463863Z",
     "start_time": "2023-02-14T01:40:22.438940Z"
    },
    "deletable": true,
    "editable": true,
    "frozen": false
   },
   "outputs": [],
   "source": [
    "cossim_precision"
   ]
  },
  {
   "cell_type": "code",
   "execution_count": null,
   "metadata": {
    "ExecuteTime": {
     "end_time": "2023-02-14T01:40:22.487919Z",
     "start_time": "2023-02-14T01:40:22.466394Z"
    },
    "deletable": true,
    "editable": true,
    "frozen": false
   },
   "outputs": [],
   "source": [
    "cossim_recall"
   ]
  },
  {
   "cell_type": "code",
   "execution_count": null,
   "metadata": {
    "ExecuteTime": {
     "end_time": "2023-02-14T01:40:22.510712Z",
     "start_time": "2023-02-14T01:40:22.491753Z"
    },
    "deletable": true,
    "editable": true,
    "frozen": false
   },
   "outputs": [],
   "source": [
    "cossim_f1_score"
   ]
  },
  {
   "cell_type": "code",
   "execution_count": null,
   "metadata": {
    "ExecuteTime": {
     "end_time": "2023-02-14T01:40:22.544090Z",
     "start_time": "2023-02-14T01:40:22.513617Z"
    },
    "deletable": true,
    "editable": true,
    "frozen": false
   },
   "outputs": [],
   "source": [
    "cossim_metrics_for_each_class"
   ]
  },
  {
   "cell_type": "code",
   "execution_count": null,
   "metadata": {
    "ExecuteTime": {
     "end_time": "2023-02-14T01:40:29.588252Z",
     "start_time": "2023-02-14T01:40:29.568462Z"
    },
    "deletable": true,
    "editable": true,
    "frozen": false
   },
   "outputs": [],
   "source": [
    "initial = []\n",
    "predicted_topic = []\n",
    "\n",
    "for pkn, info in package_names_topics_and_category.items():\n",
    "    \n",
    "    decided_category_label = -1\n",
    "    predicted_topic_label = -1\n",
    "\n",
    "    if info[\"c\"].lower() in game_categs:\n",
    "        decided_category_label = \"Game\"\n",
    "    else:\n",
    "        decided_category_label = info[\"c\"]\n",
    "        \n",
    "    if info[\"c\"] in info[\"t\"]:\n",
    "        predicted_topic_label = info[\"c\"] \n",
    "    else:\n",
    "        predicted_topic_label = info[\"t\"][0]\n",
    "    \n",
    "    initial.append(decided_category_label)\n",
    "    predicted_topic.append(predicted_topic_label)"
   ]
  },
  {
   "cell_type": "code",
   "execution_count": null,
   "metadata": {
    "ExecuteTime": {
     "end_time": "2023-02-14T01:40:30.158230Z",
     "start_time": "2023-02-14T01:40:30.140074Z"
    },
    "deletable": true,
    "editable": true,
    "frozen": false,
    "scrolled": true
   },
   "outputs": [],
   "source": [
    "correct = []\n",
    "for i in range(len(initial)):\n",
    "    if initial[i] == predicted_topic[i]:\n",
    "        correct.append(initial[i])\n",
    "\n",
    "pd.Series(correct).to_frame().value_counts()"
   ]
  },
  {
   "cell_type": "markdown",
   "metadata": {
    "deletable": true,
    "editable": true,
    "frozen": false
   },
   "source": [
    "### Label topics without a category based on human interpretation"
   ]
  },
  {
   "cell_type": "code",
   "execution_count": null,
   "metadata": {
    "ExecuteTime": {
     "end_time": "2023-02-14T07:47:10.676584Z",
     "start_time": "2023-02-14T07:47:10.653611Z"
    },
    "deletable": true,
    "editable": true,
    "frozen": false
   },
   "outputs": [],
   "source": [
    "topic_to_categ = {}\n",
    "for index, row in categ_defs_df.iterrows():\n",
    "    category = row['category']\n",
    "    topic = row['major_lda_topic']\n",
    "    if topic not in topic_to_categ:\n",
    "        topic_to_categ[topic] = [category]\n",
    "    else: \n",
    "        topic_to_categ[topic].append(category)"
   ]
  },
  {
   "cell_type": "code",
   "execution_count": null,
   "metadata": {
    "ExecuteTime": {
     "end_time": "2023-02-14T07:47:10.882049Z",
     "start_time": "2023-02-14T07:47:10.872541Z"
    },
    "deletable": true,
    "editable": true,
    "frozen": false
   },
   "outputs": [],
   "source": [
    "# sort topic_to_categ\n",
    "keys = list(topic_to_categ.keys())\n",
    "keys.sort()\n",
    "topic_to_categ = {i: topic_to_categ[i] for i in keys}\n",
    "topic_to_categ"
   ]
  },
  {
   "cell_type": "code",
   "execution_count": null,
   "metadata": {
    "ExecuteTime": {
     "end_time": "2023-02-14T07:47:11.043059Z",
     "start_time": "2023-02-14T07:47:11.037129Z"
    },
    "deletable": true,
    "editable": true,
    "frozen": false
   },
   "outputs": [],
   "source": [
    "missing_ids"
   ]
  },
  {
   "cell_type": "code",
   "execution_count": null,
   "metadata": {
    "ExecuteTime": {
     "end_time": "2023-02-14T08:31:43.261074Z",
     "start_time": "2023-02-14T08:31:43.252414Z"
    },
    "deletable": true,
    "editable": true,
    "frozen": false
   },
   "outputs": [],
   "source": [
    "topic_to_categ[3] = [\"Tools\"]\n",
    "topic_to_categ[7] = [\"Art & Design\"]\n",
    "topic_to_categ[8] = [\"Game\"] \n",
    "topic_to_categ[9] = [\"Education\"] \n",
    "\n",
    "topic_to_categ[15] = [\"Food & Drink\"]\n",
    "topic_to_categ[17] = [\"Game\"]\n",
    "topic_to_categ[19] = [\"Entertainment\"] \n",
    "\n",
    "topic_to_categ[20] = [\"Tools\"] \n",
    "topic_to_categ[23] = [\"Weather\"]\n",
    "topic_to_categ[24] = [\"Lifestyle\"]\n",
    "topic_to_categ[25] = [\"Game\"]\n",
    "\n",
    "topic_to_categ[30] = [\"Lifestyle\"]"
   ]
  },
  {
   "cell_type": "code",
   "execution_count": null,
   "metadata": {
    "ExecuteTime": {
     "end_time": "2023-02-14T08:31:43.683975Z",
     "start_time": "2023-02-14T08:31:43.674391Z"
    },
    "deletable": true,
    "editable": true,
    "frozen": false
   },
   "outputs": [],
   "source": [
    "# sort topic_to_categ\n",
    "keys = list(topic_to_categ.keys())\n",
    "keys.sort()\n",
    "topic_to_categ = {i: topic_to_categ[i] for i in keys}\n",
    "topic_to_categ"
   ]
  },
  {
   "cell_type": "code",
   "execution_count": null,
   "metadata": {
    "ExecuteTime": {
     "end_time": "2023-02-14T08:31:44.885142Z",
     "start_time": "2023-02-14T08:31:44.095940Z"
    },
    "deletable": true,
    "editable": true,
    "frozen": false
   },
   "outputs": [],
   "source": [
    "package_names_topics_and_category = {}\n",
    "for index, row in descrtiptions_df.iterrows():\n",
    "    topic = row[\"major_lda_topic\"]\n",
    "    category = row['category']\n",
    "    package_name = row[\"package_name\"]\n",
    "    if package_name not in package_names_topics_and_category:\n",
    "        package_names_topics_and_category[package_name] = {\"c\": category,\n",
    "                                                           \"t\": topic_to_categ[topic]}"
   ]
  },
  {
   "cell_type": "code",
   "execution_count": null,
   "metadata": {
    "ExecuteTime": {
     "end_time": "2023-02-14T08:31:44.890673Z",
     "start_time": "2023-02-14T08:31:44.887573Z"
    },
    "deletable": true,
    "editable": true,
    "frozen": false
   },
   "outputs": [],
   "source": [
    "sorted_categs = sorted(list(set(categories_definitions.keys())))"
   ]
  },
  {
   "cell_type": "code",
   "execution_count": null,
   "metadata": {
    "ExecuteTime": {
     "end_time": "2023-02-14T08:31:44.927720Z",
     "start_time": "2023-02-14T08:31:44.892674Z"
    },
    "deletable": true,
    "editable": true,
    "frozen": false
   },
   "outputs": [],
   "source": [
    "numeric_labels_for_categories = {}\n",
    "i = 0\n",
    "for category in sorted_categs:\n",
    "    numeric_labels_for_categories[category] = i\n",
    "    i+=1"
   ]
  },
  {
   "cell_type": "code",
   "execution_count": null,
   "metadata": {
    "ExecuteTime": {
     "end_time": "2023-02-14T08:31:44.975007Z",
     "start_time": "2023-02-14T08:31:44.930937Z"
    },
    "deletable": true,
    "editable": true,
    "frozen": false
   },
   "outputs": [],
   "source": [
    "initial = []\n",
    "predicted_topic = []\n",
    "\n",
    "for pkn, info in package_names_topics_and_category.items():\n",
    "    \n",
    "    decided_category_label = -1\n",
    "    predicted_topic_label = -1\n",
    "\n",
    "    if info[\"c\"].lower() in game_categs:\n",
    "        decided_category_label = numeric_labels_for_categories[\"Game\"]\n",
    "    else:\n",
    "        decided_category_label = numeric_labels_for_categories[info[\"c\"]]\n",
    "        \n",
    "    if info[\"c\"] in info[\"t\"]:\n",
    "        predicted_topic_label = numeric_labels_for_categories[info[\"c\"]] \n",
    "    else:\n",
    "        predicted_topic_label = numeric_labels_for_categories[info[\"t\"][0]] \n",
    "\n",
    " \n",
    "    initial.append(decided_category_label)\n",
    "    predicted_topic.append(predicted_topic_label)"
   ]
  },
  {
   "cell_type": "code",
   "execution_count": null,
   "metadata": {
    "ExecuteTime": {
     "end_time": "2023-02-14T08:31:45.023730Z",
     "start_time": "2023-02-14T08:31:45.020570Z"
    },
    "deletable": true,
    "editable": true,
    "frozen": false
   },
   "outputs": [],
   "source": [
    "from sklearn import metrics"
   ]
  },
  {
   "cell_type": "code",
   "execution_count": null,
   "metadata": {
    "ExecuteTime": {
     "end_time": "2023-02-14T08:31:45.209651Z",
     "start_time": "2023-02-14T08:31:45.167254Z"
    },
    "deletable": true,
    "editable": true,
    "frozen": false
   },
   "outputs": [],
   "source": [
    "hi_accuracy = metrics.accuracy_score(initial, predicted_topic)\n",
    "hi_precision = metrics.precision_score(initial, predicted_topic, average='weighted')\n",
    "hi_recall = metrics.recall_score(initial, predicted_topic, average='weighted')\n",
    "hi_f1_score = metrics.f1_score(initial, predicted_topic, average='weighted')\n",
    "hi_metrics_for_each_class = metrics.precision_recall_fscore_support(initial, predicted_topic, average=\"weighted\")"
   ]
  },
  {
   "cell_type": "code",
   "execution_count": null,
   "metadata": {
    "ExecuteTime": {
     "end_time": "2023-02-14T08:31:45.431942Z",
     "start_time": "2023-02-14T08:31:45.427540Z"
    },
    "deletable": true,
    "editable": true,
    "frozen": false
   },
   "outputs": [],
   "source": [
    "hi_accuracy"
   ]
  },
  {
   "cell_type": "code",
   "execution_count": null,
   "metadata": {
    "ExecuteTime": {
     "end_time": "2023-02-14T08:31:46.228110Z",
     "start_time": "2023-02-14T08:31:46.222739Z"
    },
    "deletable": true,
    "editable": true,
    "frozen": false
   },
   "outputs": [],
   "source": [
    "hi_precision"
   ]
  },
  {
   "cell_type": "code",
   "execution_count": null,
   "metadata": {
    "ExecuteTime": {
     "end_time": "2023-02-14T08:31:47.003363Z",
     "start_time": "2023-02-14T08:31:46.997442Z"
    },
    "deletable": true,
    "editable": true,
    "frozen": false
   },
   "outputs": [],
   "source": [
    "hi_recall"
   ]
  },
  {
   "cell_type": "code",
   "execution_count": null,
   "metadata": {
    "ExecuteTime": {
     "end_time": "2023-02-14T08:31:48.709708Z",
     "start_time": "2023-02-14T08:31:48.703901Z"
    },
    "deletable": true,
    "editable": true,
    "frozen": false
   },
   "outputs": [],
   "source": [
    "hi_f1_score"
   ]
  },
  {
   "cell_type": "code",
   "execution_count": null,
   "metadata": {
    "ExecuteTime": {
     "end_time": "2023-02-14T08:31:49.415877Z",
     "start_time": "2023-02-14T08:31:49.410161Z"
    },
    "deletable": true,
    "editable": true,
    "frozen": false
   },
   "outputs": [],
   "source": [
    "hi_metrics_for_each_class"
   ]
  },
  {
   "cell_type": "code",
   "execution_count": null,
   "metadata": {
    "ExecuteTime": {
     "end_time": "2023-01-30T18:15:27.789972Z",
     "start_time": "2023-01-30T18:15:27.708812Z"
    },
    "deletable": true,
    "editable": true,
    "frozen": false
   },
   "outputs": [],
   "source": [
    "second_apps_major_topic = []\n",
    "second_apps_major_topic_values = []\n",
    "\n",
    "for category_no, arr in enumerate(all_topics_numpy):\n",
    "    second = np.sort(arr)[-2] #Finds the second highest number\n",
    "    i = np.where(arr == second)\n",
    "    if len(i[0]) > 1:\n",
    "        second_maj_topic = -1\n",
    "    else:\n",
    "        second_maj_topic = i[0][0]\n",
    "\n",
    "    second_apps_major_topic.append(second_maj_topic)\n",
    "    second_apps_major_topic_values.append(second)"
   ]
  },
  {
   "cell_type": "code",
   "execution_count": null,
   "metadata": {
    "ExecuteTime": {
     "end_time": "2023-01-30T18:15:28.425568Z",
     "start_time": "2023-01-30T18:15:28.342020Z"
    },
    "deletable": true,
    "editable": true,
    "frozen": false,
    "scrolled": true
   },
   "outputs": [],
   "source": [
    "third_apps_major_topic = []\n",
    "third_apps_major_topic_values = []\n",
    "for category_no, arr in enumerate(all_topics_numpy):\n",
    "    third = np.sort(arr)[-3] \n",
    "    i = np.where(arr == third)\n",
    "    if len(i[0]) > 1:\n",
    "        third_maj_topic = -1\n",
    "    else:\n",
    "        third_maj_topic = i[0][0]\n",
    "    third_apps_major_topic.append(third_maj_topic)\n",
    "    third_apps_major_topic_values.append(third)    "
   ]
  },
  {
   "cell_type": "code",
   "execution_count": null,
   "metadata": {
    "ExecuteTime": {
     "end_time": "2023-01-30T18:15:29.237410Z",
     "start_time": "2023-01-30T18:15:29.226647Z"
    },
    "deletable": true,
    "editable": true,
    "frozen": false
   },
   "outputs": [],
   "source": [
    "descrtiptions_df['second_major_lda_topic'] = second_apps_major_topic\n",
    "descrtiptions_df['third_major_lda_topic'] = third_apps_major_topic"
   ]
  },
  {
   "cell_type": "code",
   "execution_count": null,
   "metadata": {
    "ExecuteTime": {
     "end_time": "2023-01-30T18:15:30.263918Z",
     "start_time": "2023-01-30T18:15:29.499619Z"
    },
    "deletable": true,
    "editable": true,
    "frozen": false,
    "scrolled": true
   },
   "outputs": [],
   "source": [
    "with_correct_second_topic = 0\n",
    "with_correct_third_topic = 0\n",
    "for index, row in descrtiptions_df.iterrows():\n",
    "    if row[\"categs_label\"] == row[\"second_major_lda_topic\"]:\n",
    "        with_correct_second_topic += 1\n",
    "    if row[\"categs_label\"] == row[\"third_major_lda_topic\"]:\n",
    "        with_correct_third_topic += 1"
   ]
  },
  {
   "cell_type": "code",
   "execution_count": null,
   "metadata": {
    "ExecuteTime": {
     "end_time": "2023-01-30T18:15:30.269561Z",
     "start_time": "2023-01-30T18:15:30.266259Z"
    },
    "deletable": true,
    "editable": true,
    "frozen": false,
    "scrolled": true
   },
   "outputs": [],
   "source": [
    "with_correct_second_topic"
   ]
  },
  {
   "cell_type": "code",
   "execution_count": null,
   "metadata": {
    "ExecuteTime": {
     "end_time": "2023-01-30T18:15:30.290958Z",
     "start_time": "2023-01-30T18:15:30.283144Z"
    },
    "deletable": true,
    "editable": true,
    "frozen": false
   },
   "outputs": [],
   "source": [
    "with_correct_third_topic"
   ]
  },
  {
   "cell_type": "code",
   "execution_count": null,
   "metadata": {
    "ExecuteTime": {
     "end_time": "2023-01-29T12:06:51.771085Z",
     "start_time": "2023-01-29T12:06:51.042194Z"
    },
    "deletable": true,
    "editable": true,
    "frozen": false
   },
   "outputs": [],
   "source": [
    "with_correct_second_topic_per_categ = {}\n",
    "with_correct_third_topic_per_categ = {}\n",
    "\n",
    "for index, row in descrtiptions_df.iterrows():\n",
    "    \n",
    "    categ = row[\"category\"]\n",
    "    if categ in game_categs:\n",
    "        categ = \"Game\"\n",
    "    \n",
    "    if row[\"categs_label\"] == row[\"second_major_lda_topic\"]:\n",
    "        if categ not in with_correct_second_topic_per_categ:\n",
    "            with_correct_second_topic_per_categ[categ] = 1\n",
    "        else:\n",
    "            with_correct_second_topic_per_categ[categ] += 1\n",
    "            \n",
    "    if row[\"categs_label\"] == row[\"third_major_lda_topic\"]:\n",
    "        if categ not in with_correct_third_topic_per_categ:\n",
    "            with_correct_third_topic_per_categ[categ] = 1\n",
    "        else:\n",
    "            with_correct_third_topic_per_categ[categ] += 1\n",
    "        "
   ]
  },
  {
   "cell_type": "markdown",
   "metadata": {
    "deletable": true,
    "editable": true,
    "frozen": false
   },
   "source": [
    "# Topics clusters visualization"
   ]
  },
  {
   "cell_type": "markdown",
   "metadata": {
    "deletable": true,
    "editable": true,
    "frozen": false
   },
   "source": [
    "## pyLDAVis"
   ]
  },
  {
   "cell_type": "code",
   "execution_count": null,
   "metadata": {
    "deletable": true,
    "editable": true,
    "frozen": false
   },
   "outputs": [],
   "source": [
    "import pyLDAvis.gensim\n",
    "import pyLDAvis.gensim_models as gensimvis\n",
    "import gensim"
   ]
  },
  {
   "cell_type": "code",
   "execution_count": null,
   "metadata": {
    "deletable": true,
    "editable": true,
    "frozen": false
   },
   "outputs": [],
   "source": [
    "import pyLDAvis.gensim\n",
    "pyLDAvis.enable_notebook()\n",
    "vis = pyLDAvis.gensim.prepare(best_ldamodel, corpus, dictionary=best_ldamodel.id2word, sort_topics=False)\n",
    "vis"
   ]
  }
 ],
 "metadata": {
  "kernelspec": {
   "display_name": "Python 3 (ipykernel)",
   "language": "python",
   "name": "python3"
  },
  "language_info": {
   "codemirror_mode": {
    "name": "ipython",
    "version": 3
   },
   "file_extension": ".py",
   "mimetype": "text/x-python",
   "name": "python",
   "nbconvert_exporter": "python",
   "pygments_lexer": "ipython3",
   "version": "3.11.0"
  },
  "toc": {
   "base_numbering": 1,
   "nav_menu": {},
   "number_sections": true,
   "sideBar": true,
   "skip_h1_title": false,
   "title_cell": "Table of Contents",
   "title_sidebar": "Contents",
   "toc_cell": false,
   "toc_position": {
    "height": "689.091px",
    "left": "88px",
    "top": "110.53px",
    "width": "214.76px"
   },
   "toc_section_display": true,
   "toc_window_display": true
  }
 },
 "nbformat": 4,
 "nbformat_minor": 4
}
